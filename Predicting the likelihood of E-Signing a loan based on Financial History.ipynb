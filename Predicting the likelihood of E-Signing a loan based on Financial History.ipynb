{
 "cells": [
  {
   "cell_type": "code",
   "execution_count": 1,
   "id": "9f65c074",
   "metadata": {},
   "outputs": [],
   "source": [
    "#Importing Libraries"
   ]
  },
  {
   "cell_type": "code",
   "execution_count": 1,
   "id": "3b29e68d",
   "metadata": {},
   "outputs": [],
   "source": [
    "import numpy as np\n",
    "import pandas as pd\n",
    "import matplotlib.pyplot as plt\n",
    "import seaborn as sns"
   ]
  },
  {
   "cell_type": "code",
   "execution_count": 2,
   "id": "b687430f",
   "metadata": {},
   "outputs": [],
   "source": [
    "import random\n",
    "import time\n",
    "random.seed(100)"
   ]
  },
  {
   "cell_type": "code",
   "execution_count": 3,
   "id": "641d233b",
   "metadata": {},
   "outputs": [],
   "source": [
    "filepath= r\"C:\\Users\\simra\\Desktop\\Python_DS_Station\\Data Science_Projects\\Predicting the likelihood of E-signing a loan based on Financial History\\P39-Financial-Data.csv\"\n",
    "\n",
    "dataset= pd.read_csv(filepath)"
   ]
  },
  {
   "cell_type": "code",
   "execution_count": 4,
   "id": "310a6405",
   "metadata": {},
   "outputs": [],
   "source": [
    "#EDA"
   ]
  },
  {
   "cell_type": "code",
   "execution_count": 5,
   "id": "3c510d69",
   "metadata": {},
   "outputs": [
    {
     "data": {
      "text/html": [
       "<div>\n",
       "<style scoped>\n",
       "    .dataframe tbody tr th:only-of-type {\n",
       "        vertical-align: middle;\n",
       "    }\n",
       "\n",
       "    .dataframe tbody tr th {\n",
       "        vertical-align: top;\n",
       "    }\n",
       "\n",
       "    .dataframe thead th {\n",
       "        text-align: right;\n",
       "    }\n",
       "</style>\n",
       "<table border=\"1\" class=\"dataframe\">\n",
       "  <thead>\n",
       "    <tr style=\"text-align: right;\">\n",
       "      <th></th>\n",
       "      <th>entry_id</th>\n",
       "      <th>age</th>\n",
       "      <th>pay_schedule</th>\n",
       "      <th>home_owner</th>\n",
       "      <th>income</th>\n",
       "      <th>months_employed</th>\n",
       "      <th>years_employed</th>\n",
       "      <th>current_address_year</th>\n",
       "      <th>personal_account_m</th>\n",
       "      <th>personal_account_y</th>\n",
       "      <th>...</th>\n",
       "      <th>amount_requested</th>\n",
       "      <th>risk_score</th>\n",
       "      <th>risk_score_2</th>\n",
       "      <th>risk_score_3</th>\n",
       "      <th>risk_score_4</th>\n",
       "      <th>risk_score_5</th>\n",
       "      <th>ext_quality_score</th>\n",
       "      <th>ext_quality_score_2</th>\n",
       "      <th>inquiries_last_month</th>\n",
       "      <th>e_signed</th>\n",
       "    </tr>\n",
       "  </thead>\n",
       "  <tbody>\n",
       "    <tr>\n",
       "      <th>0</th>\n",
       "      <td>7629673</td>\n",
       "      <td>40</td>\n",
       "      <td>bi-weekly</td>\n",
       "      <td>1</td>\n",
       "      <td>3135</td>\n",
       "      <td>0</td>\n",
       "      <td>3</td>\n",
       "      <td>3</td>\n",
       "      <td>6</td>\n",
       "      <td>2</td>\n",
       "      <td>...</td>\n",
       "      <td>550</td>\n",
       "      <td>36200</td>\n",
       "      <td>0.737398</td>\n",
       "      <td>0.903517</td>\n",
       "      <td>0.487712</td>\n",
       "      <td>0.515977</td>\n",
       "      <td>0.580918</td>\n",
       "      <td>0.380918</td>\n",
       "      <td>10</td>\n",
       "      <td>1</td>\n",
       "    </tr>\n",
       "    <tr>\n",
       "      <th>1</th>\n",
       "      <td>3560428</td>\n",
       "      <td>61</td>\n",
       "      <td>weekly</td>\n",
       "      <td>0</td>\n",
       "      <td>3180</td>\n",
       "      <td>0</td>\n",
       "      <td>6</td>\n",
       "      <td>3</td>\n",
       "      <td>2</td>\n",
       "      <td>7</td>\n",
       "      <td>...</td>\n",
       "      <td>600</td>\n",
       "      <td>30150</td>\n",
       "      <td>0.738510</td>\n",
       "      <td>0.881027</td>\n",
       "      <td>0.713423</td>\n",
       "      <td>0.826402</td>\n",
       "      <td>0.730720</td>\n",
       "      <td>0.630720</td>\n",
       "      <td>9</td>\n",
       "      <td>0</td>\n",
       "    </tr>\n",
       "    <tr>\n",
       "      <th>2</th>\n",
       "      <td>6934997</td>\n",
       "      <td>23</td>\n",
       "      <td>weekly</td>\n",
       "      <td>0</td>\n",
       "      <td>1540</td>\n",
       "      <td>6</td>\n",
       "      <td>0</td>\n",
       "      <td>0</td>\n",
       "      <td>7</td>\n",
       "      <td>1</td>\n",
       "      <td>...</td>\n",
       "      <td>450</td>\n",
       "      <td>34550</td>\n",
       "      <td>0.642993</td>\n",
       "      <td>0.766554</td>\n",
       "      <td>0.595018</td>\n",
       "      <td>0.762284</td>\n",
       "      <td>0.531712</td>\n",
       "      <td>0.531712</td>\n",
       "      <td>7</td>\n",
       "      <td>0</td>\n",
       "    </tr>\n",
       "    <tr>\n",
       "      <th>3</th>\n",
       "      <td>5682812</td>\n",
       "      <td>40</td>\n",
       "      <td>bi-weekly</td>\n",
       "      <td>0</td>\n",
       "      <td>5230</td>\n",
       "      <td>0</td>\n",
       "      <td>6</td>\n",
       "      <td>1</td>\n",
       "      <td>2</td>\n",
       "      <td>7</td>\n",
       "      <td>...</td>\n",
       "      <td>700</td>\n",
       "      <td>42150</td>\n",
       "      <td>0.665224</td>\n",
       "      <td>0.960832</td>\n",
       "      <td>0.767828</td>\n",
       "      <td>0.778831</td>\n",
       "      <td>0.792552</td>\n",
       "      <td>0.592552</td>\n",
       "      <td>8</td>\n",
       "      <td>1</td>\n",
       "    </tr>\n",
       "    <tr>\n",
       "      <th>4</th>\n",
       "      <td>5335819</td>\n",
       "      <td>33</td>\n",
       "      <td>semi-monthly</td>\n",
       "      <td>0</td>\n",
       "      <td>3590</td>\n",
       "      <td>0</td>\n",
       "      <td>5</td>\n",
       "      <td>2</td>\n",
       "      <td>2</td>\n",
       "      <td>8</td>\n",
       "      <td>...</td>\n",
       "      <td>1100</td>\n",
       "      <td>53850</td>\n",
       "      <td>0.617361</td>\n",
       "      <td>0.857560</td>\n",
       "      <td>0.613487</td>\n",
       "      <td>0.665523</td>\n",
       "      <td>0.744634</td>\n",
       "      <td>0.744634</td>\n",
       "      <td>12</td>\n",
       "      <td>0</td>\n",
       "    </tr>\n",
       "  </tbody>\n",
       "</table>\n",
       "<p>5 rows × 21 columns</p>\n",
       "</div>"
      ],
      "text/plain": [
       "   entry_id  age  pay_schedule  home_owner  income  months_employed  \\\n",
       "0   7629673   40     bi-weekly           1    3135                0   \n",
       "1   3560428   61        weekly           0    3180                0   \n",
       "2   6934997   23        weekly           0    1540                6   \n",
       "3   5682812   40     bi-weekly           0    5230                0   \n",
       "4   5335819   33  semi-monthly           0    3590                0   \n",
       "\n",
       "   years_employed  current_address_year  personal_account_m  \\\n",
       "0               3                     3                   6   \n",
       "1               6                     3                   2   \n",
       "2               0                     0                   7   \n",
       "3               6                     1                   2   \n",
       "4               5                     2                   2   \n",
       "\n",
       "   personal_account_y  ...  amount_requested  risk_score  risk_score_2  \\\n",
       "0                   2  ...               550       36200      0.737398   \n",
       "1                   7  ...               600       30150      0.738510   \n",
       "2                   1  ...               450       34550      0.642993   \n",
       "3                   7  ...               700       42150      0.665224   \n",
       "4                   8  ...              1100       53850      0.617361   \n",
       "\n",
       "   risk_score_3  risk_score_4  risk_score_5  ext_quality_score  \\\n",
       "0      0.903517      0.487712      0.515977           0.580918   \n",
       "1      0.881027      0.713423      0.826402           0.730720   \n",
       "2      0.766554      0.595018      0.762284           0.531712   \n",
       "3      0.960832      0.767828      0.778831           0.792552   \n",
       "4      0.857560      0.613487      0.665523           0.744634   \n",
       "\n",
       "   ext_quality_score_2  inquiries_last_month  e_signed  \n",
       "0             0.380918                    10         1  \n",
       "1             0.630720                     9         0  \n",
       "2             0.531712                     7         0  \n",
       "3             0.592552                     8         1  \n",
       "4             0.744634                    12         0  \n",
       "\n",
       "[5 rows x 21 columns]"
      ]
     },
     "execution_count": 5,
     "metadata": {},
     "output_type": "execute_result"
    }
   ],
   "source": [
    "dataset.head(5)"
   ]
  },
  {
   "cell_type": "code",
   "execution_count": 6,
   "id": "f61eba72",
   "metadata": {},
   "outputs": [
    {
     "data": {
      "text/plain": [
       "Index(['entry_id', 'age', 'pay_schedule', 'home_owner', 'income',\n",
       "       'months_employed', 'years_employed', 'current_address_year',\n",
       "       'personal_account_m', 'personal_account_y', 'has_debt',\n",
       "       'amount_requested', 'risk_score', 'risk_score_2', 'risk_score_3',\n",
       "       'risk_score_4', 'risk_score_5', 'ext_quality_score',\n",
       "       'ext_quality_score_2', 'inquiries_last_month', 'e_signed'],\n",
       "      dtype='object')"
      ]
     },
     "execution_count": 6,
     "metadata": {},
     "output_type": "execute_result"
    }
   ],
   "source": [
    "dataset.columns"
   ]
  },
  {
   "cell_type": "code",
   "execution_count": 7,
   "id": "a170a4ee",
   "metadata": {},
   "outputs": [
    {
     "name": "stdout",
     "output_type": "stream",
     "text": [
      "<class 'pandas.core.frame.DataFrame'>\n",
      "RangeIndex: 17908 entries, 0 to 17907\n",
      "Data columns (total 21 columns):\n",
      " #   Column                Non-Null Count  Dtype  \n",
      "---  ------                --------------  -----  \n",
      " 0   entry_id              17908 non-null  int64  \n",
      " 1   age                   17908 non-null  int64  \n",
      " 2   pay_schedule          17908 non-null  object \n",
      " 3   home_owner            17908 non-null  int64  \n",
      " 4   income                17908 non-null  int64  \n",
      " 5   months_employed       17908 non-null  int64  \n",
      " 6   years_employed        17908 non-null  int64  \n",
      " 7   current_address_year  17908 non-null  int64  \n",
      " 8   personal_account_m    17908 non-null  int64  \n",
      " 9   personal_account_y    17908 non-null  int64  \n",
      " 10  has_debt              17908 non-null  int64  \n",
      " 11  amount_requested      17908 non-null  int64  \n",
      " 12  risk_score            17908 non-null  int64  \n",
      " 13  risk_score_2          17908 non-null  float64\n",
      " 14  risk_score_3          17908 non-null  float64\n",
      " 15  risk_score_4          17908 non-null  float64\n",
      " 16  risk_score_5          17908 non-null  float64\n",
      " 17  ext_quality_score     17908 non-null  float64\n",
      " 18  ext_quality_score_2   17908 non-null  float64\n",
      " 19  inquiries_last_month  17908 non-null  int64  \n",
      " 20  e_signed              17908 non-null  int64  \n",
      "dtypes: float64(6), int64(14), object(1)\n",
      "memory usage: 2.9+ MB\n"
     ]
    }
   ],
   "source": [
    "dataset.info()"
   ]
  },
  {
   "cell_type": "code",
   "execution_count": 8,
   "id": "afe49efc",
   "metadata": {},
   "outputs": [
    {
     "data": {
      "text/html": [
       "<div>\n",
       "<style scoped>\n",
       "    .dataframe tbody tr th:only-of-type {\n",
       "        vertical-align: middle;\n",
       "    }\n",
       "\n",
       "    .dataframe tbody tr th {\n",
       "        vertical-align: top;\n",
       "    }\n",
       "\n",
       "    .dataframe thead th {\n",
       "        text-align: right;\n",
       "    }\n",
       "</style>\n",
       "<table border=\"1\" class=\"dataframe\">\n",
       "  <thead>\n",
       "    <tr style=\"text-align: right;\">\n",
       "      <th></th>\n",
       "      <th>entry_id</th>\n",
       "      <th>age</th>\n",
       "      <th>home_owner</th>\n",
       "      <th>income</th>\n",
       "      <th>months_employed</th>\n",
       "      <th>years_employed</th>\n",
       "      <th>current_address_year</th>\n",
       "      <th>personal_account_m</th>\n",
       "      <th>personal_account_y</th>\n",
       "      <th>has_debt</th>\n",
       "      <th>amount_requested</th>\n",
       "      <th>risk_score</th>\n",
       "      <th>risk_score_2</th>\n",
       "      <th>risk_score_3</th>\n",
       "      <th>risk_score_4</th>\n",
       "      <th>risk_score_5</th>\n",
       "      <th>ext_quality_score</th>\n",
       "      <th>ext_quality_score_2</th>\n",
       "      <th>inquiries_last_month</th>\n",
       "      <th>e_signed</th>\n",
       "    </tr>\n",
       "  </thead>\n",
       "  <tbody>\n",
       "    <tr>\n",
       "      <th>count</th>\n",
       "      <td>1.790800e+04</td>\n",
       "      <td>17908.000000</td>\n",
       "      <td>17908.000000</td>\n",
       "      <td>17908.000000</td>\n",
       "      <td>17908.000000</td>\n",
       "      <td>17908.000000</td>\n",
       "      <td>17908.000000</td>\n",
       "      <td>17908.000000</td>\n",
       "      <td>17908.000000</td>\n",
       "      <td>17908.000000</td>\n",
       "      <td>17908.000000</td>\n",
       "      <td>17908.000000</td>\n",
       "      <td>17908.000000</td>\n",
       "      <td>17908.000000</td>\n",
       "      <td>17908.000000</td>\n",
       "      <td>17908.000000</td>\n",
       "      <td>17908.000000</td>\n",
       "      <td>17908.000000</td>\n",
       "      <td>17908.000000</td>\n",
       "      <td>17908.000000</td>\n",
       "    </tr>\n",
       "    <tr>\n",
       "      <th>mean</th>\n",
       "      <td>5.596978e+06</td>\n",
       "      <td>43.015412</td>\n",
       "      <td>0.425173</td>\n",
       "      <td>3657.214653</td>\n",
       "      <td>1.186006</td>\n",
       "      <td>3.526860</td>\n",
       "      <td>3.584711</td>\n",
       "      <td>3.427183</td>\n",
       "      <td>3.503350</td>\n",
       "      <td>0.795399</td>\n",
       "      <td>950.446449</td>\n",
       "      <td>61086.302211</td>\n",
       "      <td>0.690878</td>\n",
       "      <td>0.878276</td>\n",
       "      <td>0.583155</td>\n",
       "      <td>0.718252</td>\n",
       "      <td>0.623112</td>\n",
       "      <td>0.622068</td>\n",
       "      <td>6.457226</td>\n",
       "      <td>0.538251</td>\n",
       "    </tr>\n",
       "    <tr>\n",
       "      <th>std</th>\n",
       "      <td>2.562473e+06</td>\n",
       "      <td>11.873107</td>\n",
       "      <td>0.494383</td>\n",
       "      <td>1504.890063</td>\n",
       "      <td>2.400897</td>\n",
       "      <td>2.259732</td>\n",
       "      <td>2.751937</td>\n",
       "      <td>2.216440</td>\n",
       "      <td>1.955568</td>\n",
       "      <td>0.403421</td>\n",
       "      <td>698.543683</td>\n",
       "      <td>15394.255020</td>\n",
       "      <td>0.090470</td>\n",
       "      <td>0.054563</td>\n",
       "      <td>0.125061</td>\n",
       "      <td>0.120697</td>\n",
       "      <td>0.139729</td>\n",
       "      <td>0.139898</td>\n",
       "      <td>3.673093</td>\n",
       "      <td>0.498549</td>\n",
       "    </tr>\n",
       "    <tr>\n",
       "      <th>min</th>\n",
       "      <td>1.111398e+06</td>\n",
       "      <td>18.000000</td>\n",
       "      <td>0.000000</td>\n",
       "      <td>905.000000</td>\n",
       "      <td>0.000000</td>\n",
       "      <td>0.000000</td>\n",
       "      <td>0.000000</td>\n",
       "      <td>0.000000</td>\n",
       "      <td>0.000000</td>\n",
       "      <td>0.000000</td>\n",
       "      <td>350.000000</td>\n",
       "      <td>2100.000000</td>\n",
       "      <td>0.023258</td>\n",
       "      <td>0.451371</td>\n",
       "      <td>0.016724</td>\n",
       "      <td>0.153367</td>\n",
       "      <td>0.010184</td>\n",
       "      <td>0.006622</td>\n",
       "      <td>1.000000</td>\n",
       "      <td>0.000000</td>\n",
       "    </tr>\n",
       "    <tr>\n",
       "      <th>25%</th>\n",
       "      <td>3.378999e+06</td>\n",
       "      <td>34.000000</td>\n",
       "      <td>0.000000</td>\n",
       "      <td>2580.000000</td>\n",
       "      <td>0.000000</td>\n",
       "      <td>2.000000</td>\n",
       "      <td>2.000000</td>\n",
       "      <td>2.000000</td>\n",
       "      <td>2.000000</td>\n",
       "      <td>1.000000</td>\n",
       "      <td>600.000000</td>\n",
       "      <td>49350.000000</td>\n",
       "      <td>0.640993</td>\n",
       "      <td>0.850882</td>\n",
       "      <td>0.500208</td>\n",
       "      <td>0.633708</td>\n",
       "      <td>0.521735</td>\n",
       "      <td>0.519677</td>\n",
       "      <td>4.000000</td>\n",
       "      <td>0.000000</td>\n",
       "    </tr>\n",
       "    <tr>\n",
       "      <th>50%</th>\n",
       "      <td>5.608376e+06</td>\n",
       "      <td>42.000000</td>\n",
       "      <td>0.000000</td>\n",
       "      <td>3260.000000</td>\n",
       "      <td>0.000000</td>\n",
       "      <td>3.000000</td>\n",
       "      <td>3.000000</td>\n",
       "      <td>2.000000</td>\n",
       "      <td>3.000000</td>\n",
       "      <td>1.000000</td>\n",
       "      <td>700.000000</td>\n",
       "      <td>61200.000000</td>\n",
       "      <td>0.699561</td>\n",
       "      <td>0.881004</td>\n",
       "      <td>0.588208</td>\n",
       "      <td>0.725113</td>\n",
       "      <td>0.625944</td>\n",
       "      <td>0.622974</td>\n",
       "      <td>6.000000</td>\n",
       "      <td>1.000000</td>\n",
       "    </tr>\n",
       "    <tr>\n",
       "      <th>75%</th>\n",
       "      <td>7.805624e+06</td>\n",
       "      <td>51.000000</td>\n",
       "      <td>1.000000</td>\n",
       "      <td>4670.000000</td>\n",
       "      <td>1.000000</td>\n",
       "      <td>5.000000</td>\n",
       "      <td>5.000000</td>\n",
       "      <td>5.000000</td>\n",
       "      <td>4.000000</td>\n",
       "      <td>1.000000</td>\n",
       "      <td>1100.000000</td>\n",
       "      <td>72750.000000</td>\n",
       "      <td>0.752887</td>\n",
       "      <td>0.912608</td>\n",
       "      <td>0.672395</td>\n",
       "      <td>0.806681</td>\n",
       "      <td>0.729841</td>\n",
       "      <td>0.728940</td>\n",
       "      <td>8.000000</td>\n",
       "      <td>1.000000</td>\n",
       "    </tr>\n",
       "    <tr>\n",
       "      <th>max</th>\n",
       "      <td>9.999874e+06</td>\n",
       "      <td>96.000000</td>\n",
       "      <td>1.000000</td>\n",
       "      <td>9985.000000</td>\n",
       "      <td>11.000000</td>\n",
       "      <td>16.000000</td>\n",
       "      <td>12.000000</td>\n",
       "      <td>11.000000</td>\n",
       "      <td>15.000000</td>\n",
       "      <td>1.000000</td>\n",
       "      <td>10200.000000</td>\n",
       "      <td>99750.000000</td>\n",
       "      <td>0.999997</td>\n",
       "      <td>0.999024</td>\n",
       "      <td>0.978932</td>\n",
       "      <td>0.996260</td>\n",
       "      <td>0.970249</td>\n",
       "      <td>0.966953</td>\n",
       "      <td>30.000000</td>\n",
       "      <td>1.000000</td>\n",
       "    </tr>\n",
       "  </tbody>\n",
       "</table>\n",
       "</div>"
      ],
      "text/plain": [
       "           entry_id           age    home_owner        income  \\\n",
       "count  1.790800e+04  17908.000000  17908.000000  17908.000000   \n",
       "mean   5.596978e+06     43.015412      0.425173   3657.214653   \n",
       "std    2.562473e+06     11.873107      0.494383   1504.890063   \n",
       "min    1.111398e+06     18.000000      0.000000    905.000000   \n",
       "25%    3.378999e+06     34.000000      0.000000   2580.000000   \n",
       "50%    5.608376e+06     42.000000      0.000000   3260.000000   \n",
       "75%    7.805624e+06     51.000000      1.000000   4670.000000   \n",
       "max    9.999874e+06     96.000000      1.000000   9985.000000   \n",
       "\n",
       "       months_employed  years_employed  current_address_year  \\\n",
       "count     17908.000000    17908.000000          17908.000000   \n",
       "mean          1.186006        3.526860              3.584711   \n",
       "std           2.400897        2.259732              2.751937   \n",
       "min           0.000000        0.000000              0.000000   \n",
       "25%           0.000000        2.000000              2.000000   \n",
       "50%           0.000000        3.000000              3.000000   \n",
       "75%           1.000000        5.000000              5.000000   \n",
       "max          11.000000       16.000000             12.000000   \n",
       "\n",
       "       personal_account_m  personal_account_y      has_debt  amount_requested  \\\n",
       "count        17908.000000        17908.000000  17908.000000      17908.000000   \n",
       "mean             3.427183            3.503350      0.795399        950.446449   \n",
       "std              2.216440            1.955568      0.403421        698.543683   \n",
       "min              0.000000            0.000000      0.000000        350.000000   \n",
       "25%              2.000000            2.000000      1.000000        600.000000   \n",
       "50%              2.000000            3.000000      1.000000        700.000000   \n",
       "75%              5.000000            4.000000      1.000000       1100.000000   \n",
       "max             11.000000           15.000000      1.000000      10200.000000   \n",
       "\n",
       "         risk_score  risk_score_2  risk_score_3  risk_score_4  risk_score_5  \\\n",
       "count  17908.000000  17908.000000  17908.000000  17908.000000  17908.000000   \n",
       "mean   61086.302211      0.690878      0.878276      0.583155      0.718252   \n",
       "std    15394.255020      0.090470      0.054563      0.125061      0.120697   \n",
       "min     2100.000000      0.023258      0.451371      0.016724      0.153367   \n",
       "25%    49350.000000      0.640993      0.850882      0.500208      0.633708   \n",
       "50%    61200.000000      0.699561      0.881004      0.588208      0.725113   \n",
       "75%    72750.000000      0.752887      0.912608      0.672395      0.806681   \n",
       "max    99750.000000      0.999997      0.999024      0.978932      0.996260   \n",
       "\n",
       "       ext_quality_score  ext_quality_score_2  inquiries_last_month  \\\n",
       "count       17908.000000         17908.000000          17908.000000   \n",
       "mean            0.623112             0.622068              6.457226   \n",
       "std             0.139729             0.139898              3.673093   \n",
       "min             0.010184             0.006622              1.000000   \n",
       "25%             0.521735             0.519677              4.000000   \n",
       "50%             0.625944             0.622974              6.000000   \n",
       "75%             0.729841             0.728940              8.000000   \n",
       "max             0.970249             0.966953             30.000000   \n",
       "\n",
       "           e_signed  \n",
       "count  17908.000000  \n",
       "mean       0.538251  \n",
       "std        0.498549  \n",
       "min        0.000000  \n",
       "25%        0.000000  \n",
       "50%        1.000000  \n",
       "75%        1.000000  \n",
       "max        1.000000  "
      ]
     },
     "execution_count": 8,
     "metadata": {},
     "output_type": "execute_result"
    }
   ],
   "source": [
    "dataset.describe() #pretty much balanced dataset if we see our response variable"
   ]
  },
  {
   "cell_type": "code",
   "execution_count": 9,
   "id": "87003a01",
   "metadata": {},
   "outputs": [],
   "source": [
    "#Data Cleaning"
   ]
  },
  {
   "cell_type": "code",
   "execution_count": 10,
   "id": "5bcc636d",
   "metadata": {},
   "outputs": [
    {
     "data": {
      "text/plain": [
       "entry_id                False\n",
       "age                     False\n",
       "pay_schedule            False\n",
       "home_owner              False\n",
       "income                  False\n",
       "months_employed         False\n",
       "years_employed          False\n",
       "current_address_year    False\n",
       "personal_account_m      False\n",
       "personal_account_y      False\n",
       "has_debt                False\n",
       "amount_requested        False\n",
       "risk_score              False\n",
       "risk_score_2            False\n",
       "risk_score_3            False\n",
       "risk_score_4            False\n",
       "risk_score_5            False\n",
       "ext_quality_score       False\n",
       "ext_quality_score_2     False\n",
       "inquiries_last_month    False\n",
       "e_signed                False\n",
       "dtype: bool"
      ]
     },
     "execution_count": 10,
     "metadata": {},
     "output_type": "execute_result"
    }
   ],
   "source": [
    "dataset.isna().any()"
   ]
  },
  {
   "cell_type": "code",
   "execution_count": 11,
   "id": "b4c2f151",
   "metadata": {},
   "outputs": [],
   "source": [
    "#Plotting histograms\n",
    "#Before plotting histograms, we need to make sure that columns that we offer to histograms are often plottable\n",
    "#meaning we dont care about any categorical variables that need to be removed, and any variables with NA has to be removed"
   ]
  },
  {
   "cell_type": "code",
   "execution_count": 12,
   "id": "0e7a82c5",
   "metadata": {},
   "outputs": [],
   "source": [
    "dataset2= dataset.drop(columns=['entry_id', 'pay_schedule', 'e_signed'])"
   ]
  },
  {
   "cell_type": "code",
   "execution_count": 13,
   "id": "629a456f",
   "metadata": {},
   "outputs": [
    {
     "data": {
      "image/png": "[encoded data removed]",
      "text/plain": [
       "<Figure size 1080x1080 with 20 Axes>"
      ]
     },
     "metadata": {
      "needs_background": "light"
     },
     "output_type": "display_data"
    }
   ],
   "source": [
    "dataset2.hist(bins=30, figsize=(15, 15))\n",
    "plt.suptitle('Histogram of Numeric Columns')\n",
    "plt.show()"
   ]
  },
  {
   "cell_type": "code",
   "execution_count": 14,
   "id": "683e5df5",
   "metadata": {},
   "outputs": [],
   "source": [
    "#months employed seem to be bit off here in the histo gram plot\n",
    "#Most of the users lay on 0 particular value and few lay over everyehereelse and this is weird as this shoulnt be the case \n",
    "#as so many people have even years of employment (1 year employment flat, 2 years, etc) as employment is distributed by years and months\n",
    "\n",
    "#So, the reason of plotting histogram is to spot such things which dont make any sense (not normalised, if draw a line over the data points)"
   ]
  },
  {
   "cell_type": "code",
   "execution_count": 15,
   "id": "473b5fb5",
   "metadata": {},
   "outputs": [],
   "source": [
    "colors = ['skyblue', 'orange', 'green', 'red', 'purple']"
   ]
  },
  {
   "cell_type": "code",
   "execution_count": 16,
   "id": "9088fc3d",
   "metadata": {},
   "outputs": [
    {
     "data": {
      "text/plain": [
       "<AxesSubplot:title={'center':'correlation with response variable'}>"
      ]
     },
     "execution_count": 16,
     "metadata": {},
     "output_type": "execute_result"
    },
    {
     "data": {
      "image/png": "[encoded data removed]",
      "text/plain": [
       "<Figure size 1080x576 with 1 Axes>"
      ]
     },
     "metadata": {
      "needs_background": "light"
     },
     "output_type": "display_data"
    }
   ],
   "source": [
    "#Correlation with response/ target variable\n",
    "\n",
    "dataset2.corrwith(dataset.e_signed).plot.bar(figsize=(15,8),title= 'correlation with response variable', fontsize= 15, rot= 45, grid= True, color= colors)"
   ]
  },
  {
   "cell_type": "code",
   "execution_count": 17,
   "id": "26ff78fa",
   "metadata": {},
   "outputs": [],
   "source": [
    "#Reason behing strong correlation we dont know in depth yet but its good to keep these correlations with response variable"
   ]
  },
  {
   "cell_type": "code",
   "execution_count": 18,
   "id": "adae64e8",
   "metadata": {},
   "outputs": [],
   "source": [
    "#Plotting correlation matrix to see the correlation of features/ relationships of features with each other and understand if we need any feature engineering or not\n",
    "#If not, it always educational to see the relationship b/w features"
   ]
  },
  {
   "cell_type": "code",
   "execution_count": 19,
   "id": "8bc0b53a",
   "metadata": {},
   "outputs": [
    {
     "data": {
      "text/html": [
       "<div>\n",
       "<style scoped>\n",
       "    .dataframe tbody tr th:only-of-type {\n",
       "        vertical-align: middle;\n",
       "    }\n",
       "\n",
       "    .dataframe tbody tr th {\n",
       "        vertical-align: top;\n",
       "    }\n",
       "\n",
       "    .dataframe thead th {\n",
       "        text-align: right;\n",
       "    }\n",
       "</style>\n",
       "<table border=\"1\" class=\"dataframe\">\n",
       "  <thead>\n",
       "    <tr style=\"text-align: right;\">\n",
       "      <th></th>\n",
       "      <th>age</th>\n",
       "      <th>home_owner</th>\n",
       "      <th>income</th>\n",
       "      <th>months_employed</th>\n",
       "      <th>years_employed</th>\n",
       "      <th>current_address_year</th>\n",
       "      <th>personal_account_m</th>\n",
       "      <th>personal_account_y</th>\n",
       "      <th>has_debt</th>\n",
       "      <th>amount_requested</th>\n",
       "      <th>risk_score</th>\n",
       "      <th>risk_score_2</th>\n",
       "      <th>risk_score_3</th>\n",
       "      <th>risk_score_4</th>\n",
       "      <th>risk_score_5</th>\n",
       "      <th>ext_quality_score</th>\n",
       "      <th>ext_quality_score_2</th>\n",
       "      <th>inquiries_last_month</th>\n",
       "    </tr>\n",
       "  </thead>\n",
       "  <tbody>\n",
       "    <tr>\n",
       "      <th>age</th>\n",
       "      <td>1.000000</td>\n",
       "      <td>0.142046</td>\n",
       "      <td>0.174062</td>\n",
       "      <td>-0.103635</td>\n",
       "      <td>0.182590</td>\n",
       "      <td>0.146554</td>\n",
       "      <td>-0.013609</td>\n",
       "      <td>0.041332</td>\n",
       "      <td>-0.043808</td>\n",
       "      <td>0.084132</td>\n",
       "      <td>0.162868</td>\n",
       "      <td>-0.019163</td>\n",
       "      <td>0.111258</td>\n",
       "      <td>0.069191</td>\n",
       "      <td>0.093710</td>\n",
       "      <td>0.032265</td>\n",
       "      <td>0.040019</td>\n",
       "      <td>0.041224</td>\n",
       "    </tr>\n",
       "    <tr>\n",
       "      <th>home_owner</th>\n",
       "      <td>0.142046</td>\n",
       "      <td>1.000000</td>\n",
       "      <td>0.147487</td>\n",
       "      <td>0.018008</td>\n",
       "      <td>0.027367</td>\n",
       "      <td>0.179291</td>\n",
       "      <td>0.013782</td>\n",
       "      <td>-0.047105</td>\n",
       "      <td>-0.076206</td>\n",
       "      <td>0.033996</td>\n",
       "      <td>0.113608</td>\n",
       "      <td>0.000647</td>\n",
       "      <td>0.049708</td>\n",
       "      <td>-0.137293</td>\n",
       "      <td>-0.080470</td>\n",
       "      <td>0.010080</td>\n",
       "      <td>0.005507</td>\n",
       "      <td>0.011215</td>\n",
       "    </tr>\n",
       "    <tr>\n",
       "      <th>income</th>\n",
       "      <td>0.174062</td>\n",
       "      <td>0.147487</td>\n",
       "      <td>1.000000</td>\n",
       "      <td>-0.049157</td>\n",
       "      <td>0.102139</td>\n",
       "      <td>0.046982</td>\n",
       "      <td>0.009052</td>\n",
       "      <td>-0.002002</td>\n",
       "      <td>-0.011199</td>\n",
       "      <td>0.289099</td>\n",
       "      <td>0.168375</td>\n",
       "      <td>-0.023627</td>\n",
       "      <td>0.058665</td>\n",
       "      <td>-0.001254</td>\n",
       "      <td>0.025179</td>\n",
       "      <td>-0.008429</td>\n",
       "      <td>-0.003323</td>\n",
       "      <td>0.051622</td>\n",
       "    </tr>\n",
       "    <tr>\n",
       "      <th>months_employed</th>\n",
       "      <td>-0.103635</td>\n",
       "      <td>0.018008</td>\n",
       "      <td>-0.049157</td>\n",
       "      <td>1.000000</td>\n",
       "      <td>-0.189805</td>\n",
       "      <td>-0.056609</td>\n",
       "      <td>0.211605</td>\n",
       "      <td>-0.019645</td>\n",
       "      <td>-0.000546</td>\n",
       "      <td>-0.044234</td>\n",
       "      <td>-0.044765</td>\n",
       "      <td>0.028950</td>\n",
       "      <td>-0.024297</td>\n",
       "      <td>-0.014512</td>\n",
       "      <td>-0.019406</td>\n",
       "      <td>-0.009041</td>\n",
       "      <td>-0.004461</td>\n",
       "      <td>-0.026710</td>\n",
       "    </tr>\n",
       "    <tr>\n",
       "      <th>years_employed</th>\n",
       "      <td>0.182590</td>\n",
       "      <td>0.027367</td>\n",
       "      <td>0.102139</td>\n",
       "      <td>-0.189805</td>\n",
       "      <td>1.000000</td>\n",
       "      <td>0.343905</td>\n",
       "      <td>-0.052543</td>\n",
       "      <td>0.184879</td>\n",
       "      <td>0.005293</td>\n",
       "      <td>0.084841</td>\n",
       "      <td>0.098960</td>\n",
       "      <td>-0.056574</td>\n",
       "      <td>0.074659</td>\n",
       "      <td>-0.029398</td>\n",
       "      <td>0.000234</td>\n",
       "      <td>0.014162</td>\n",
       "      <td>0.030353</td>\n",
       "      <td>0.011976</td>\n",
       "    </tr>\n",
       "    <tr>\n",
       "      <th>current_address_year</th>\n",
       "      <td>0.146554</td>\n",
       "      <td>0.179291</td>\n",
       "      <td>0.046982</td>\n",
       "      <td>-0.056609</td>\n",
       "      <td>0.343905</td>\n",
       "      <td>1.000000</td>\n",
       "      <td>0.082491</td>\n",
       "      <td>0.110258</td>\n",
       "      <td>0.017423</td>\n",
       "      <td>0.067893</td>\n",
       "      <td>0.090535</td>\n",
       "      <td>-0.060412</td>\n",
       "      <td>0.058936</td>\n",
       "      <td>-0.161052</td>\n",
       "      <td>-0.094545</td>\n",
       "      <td>0.003362</td>\n",
       "      <td>0.009093</td>\n",
       "      <td>0.013659</td>\n",
       "    </tr>\n",
       "    <tr>\n",
       "      <th>personal_account_m</th>\n",
       "      <td>-0.013609</td>\n",
       "      <td>0.013782</td>\n",
       "      <td>0.009052</td>\n",
       "      <td>0.211605</td>\n",
       "      <td>-0.052543</td>\n",
       "      <td>0.082491</td>\n",
       "      <td>1.000000</td>\n",
       "      <td>-0.140649</td>\n",
       "      <td>0.246832</td>\n",
       "      <td>-0.046148</td>\n",
       "      <td>-0.044146</td>\n",
       "      <td>-0.023498</td>\n",
       "      <td>0.029162</td>\n",
       "      <td>-0.060695</td>\n",
       "      <td>-0.033960</td>\n",
       "      <td>-0.016151</td>\n",
       "      <td>-0.009181</td>\n",
       "      <td>-0.028225</td>\n",
       "    </tr>\n",
       "    <tr>\n",
       "      <th>personal_account_y</th>\n",
       "      <td>0.041332</td>\n",
       "      <td>-0.047105</td>\n",
       "      <td>-0.002002</td>\n",
       "      <td>-0.019645</td>\n",
       "      <td>0.184879</td>\n",
       "      <td>0.110258</td>\n",
       "      <td>-0.140649</td>\n",
       "      <td>1.000000</td>\n",
       "      <td>-0.030701</td>\n",
       "      <td>0.051857</td>\n",
       "      <td>0.017071</td>\n",
       "      <td>0.027535</td>\n",
       "      <td>0.079175</td>\n",
       "      <td>0.012877</td>\n",
       "      <td>0.042121</td>\n",
       "      <td>0.039808</td>\n",
       "      <td>0.029372</td>\n",
       "      <td>0.003923</td>\n",
       "    </tr>\n",
       "    <tr>\n",
       "      <th>has_debt</th>\n",
       "      <td>-0.043808</td>\n",
       "      <td>-0.076206</td>\n",
       "      <td>-0.011199</td>\n",
       "      <td>-0.000546</td>\n",
       "      <td>0.005293</td>\n",
       "      <td>0.017423</td>\n",
       "      <td>0.246832</td>\n",
       "      <td>-0.030701</td>\n",
       "      <td>1.000000</td>\n",
       "      <td>-0.008445</td>\n",
       "      <td>-0.020332</td>\n",
       "      <td>-0.034691</td>\n",
       "      <td>0.001108</td>\n",
       "      <td>0.002074</td>\n",
       "      <td>0.002341</td>\n",
       "      <td>-0.021523</td>\n",
       "      <td>-0.009055</td>\n",
       "      <td>-0.001007</td>\n",
       "    </tr>\n",
       "    <tr>\n",
       "      <th>amount_requested</th>\n",
       "      <td>0.084132</td>\n",
       "      <td>0.033996</td>\n",
       "      <td>0.289099</td>\n",
       "      <td>-0.044234</td>\n",
       "      <td>0.084841</td>\n",
       "      <td>0.067893</td>\n",
       "      <td>-0.046148</td>\n",
       "      <td>0.051857</td>\n",
       "      <td>-0.008445</td>\n",
       "      <td>1.000000</td>\n",
       "      <td>0.290716</td>\n",
       "      <td>0.005405</td>\n",
       "      <td>0.045465</td>\n",
       "      <td>0.061459</td>\n",
       "      <td>0.071470</td>\n",
       "      <td>0.025167</td>\n",
       "      <td>0.028052</td>\n",
       "      <td>-0.036197</td>\n",
       "    </tr>\n",
       "    <tr>\n",
       "      <th>risk_score</th>\n",
       "      <td>0.162868</td>\n",
       "      <td>0.113608</td>\n",
       "      <td>0.168375</td>\n",
       "      <td>-0.044765</td>\n",
       "      <td>0.098960</td>\n",
       "      <td>0.090535</td>\n",
       "      <td>-0.044146</td>\n",
       "      <td>0.017071</td>\n",
       "      <td>-0.020332</td>\n",
       "      <td>0.290716</td>\n",
       "      <td>1.000000</td>\n",
       "      <td>0.208188</td>\n",
       "      <td>0.104861</td>\n",
       "      <td>0.120234</td>\n",
       "      <td>0.130464</td>\n",
       "      <td>0.098649</td>\n",
       "      <td>0.108170</td>\n",
       "      <td>-0.261076</td>\n",
       "    </tr>\n",
       "    <tr>\n",
       "      <th>risk_score_2</th>\n",
       "      <td>-0.019163</td>\n",
       "      <td>0.000647</td>\n",
       "      <td>-0.023627</td>\n",
       "      <td>0.028950</td>\n",
       "      <td>-0.056574</td>\n",
       "      <td>-0.060412</td>\n",
       "      <td>-0.023498</td>\n",
       "      <td>0.027535</td>\n",
       "      <td>-0.034691</td>\n",
       "      <td>0.005405</td>\n",
       "      <td>0.208188</td>\n",
       "      <td>1.000000</td>\n",
       "      <td>0.184249</td>\n",
       "      <td>0.225259</td>\n",
       "      <td>0.227510</td>\n",
       "      <td>0.207386</td>\n",
       "      <td>0.200195</td>\n",
       "      <td>-0.214013</td>\n",
       "    </tr>\n",
       "    <tr>\n",
       "      <th>risk_score_3</th>\n",
       "      <td>0.111258</td>\n",
       "      <td>0.049708</td>\n",
       "      <td>0.058665</td>\n",
       "      <td>-0.024297</td>\n",
       "      <td>0.074659</td>\n",
       "      <td>0.058936</td>\n",
       "      <td>0.029162</td>\n",
       "      <td>0.079175</td>\n",
       "      <td>0.001108</td>\n",
       "      <td>0.045465</td>\n",
       "      <td>0.104861</td>\n",
       "      <td>0.184249</td>\n",
       "      <td>1.000000</td>\n",
       "      <td>0.166067</td>\n",
       "      <td>0.480369</td>\n",
       "      <td>0.256866</td>\n",
       "      <td>0.267931</td>\n",
       "      <td>-0.042011</td>\n",
       "    </tr>\n",
       "    <tr>\n",
       "      <th>risk_score_4</th>\n",
       "      <td>0.069191</td>\n",
       "      <td>-0.137293</td>\n",
       "      <td>-0.001254</td>\n",
       "      <td>-0.014512</td>\n",
       "      <td>-0.029398</td>\n",
       "      <td>-0.161052</td>\n",
       "      <td>-0.060695</td>\n",
       "      <td>0.012877</td>\n",
       "      <td>0.002074</td>\n",
       "      <td>0.061459</td>\n",
       "      <td>0.120234</td>\n",
       "      <td>0.225259</td>\n",
       "      <td>0.166067</td>\n",
       "      <td>1.000000</td>\n",
       "      <td>0.588190</td>\n",
       "      <td>0.243864</td>\n",
       "      <td>0.237969</td>\n",
       "      <td>-0.033654</td>\n",
       "    </tr>\n",
       "    <tr>\n",
       "      <th>risk_score_5</th>\n",
       "      <td>0.093710</td>\n",
       "      <td>-0.080470</td>\n",
       "      <td>0.025179</td>\n",
       "      <td>-0.019406</td>\n",
       "      <td>0.000234</td>\n",
       "      <td>-0.094545</td>\n",
       "      <td>-0.033960</td>\n",
       "      <td>0.042121</td>\n",
       "      <td>0.002341</td>\n",
       "      <td>0.071470</td>\n",
       "      <td>0.130464</td>\n",
       "      <td>0.227510</td>\n",
       "      <td>0.480369</td>\n",
       "      <td>0.588190</td>\n",
       "      <td>1.000000</td>\n",
       "      <td>0.284291</td>\n",
       "      <td>0.279478</td>\n",
       "      <td>-0.015720</td>\n",
       "    </tr>\n",
       "    <tr>\n",
       "      <th>ext_quality_score</th>\n",
       "      <td>0.032265</td>\n",
       "      <td>0.010080</td>\n",
       "      <td>-0.008429</td>\n",
       "      <td>-0.009041</td>\n",
       "      <td>0.014162</td>\n",
       "      <td>0.003362</td>\n",
       "      <td>-0.016151</td>\n",
       "      <td>0.039808</td>\n",
       "      <td>-0.021523</td>\n",
       "      <td>0.025167</td>\n",
       "      <td>0.098649</td>\n",
       "      <td>0.207386</td>\n",
       "      <td>0.256866</td>\n",
       "      <td>0.243864</td>\n",
       "      <td>0.284291</td>\n",
       "      <td>1.000000</td>\n",
       "      <td>0.359777</td>\n",
       "      <td>-0.075221</td>\n",
       "    </tr>\n",
       "    <tr>\n",
       "      <th>ext_quality_score_2</th>\n",
       "      <td>0.040019</td>\n",
       "      <td>0.005507</td>\n",
       "      <td>-0.003323</td>\n",
       "      <td>-0.004461</td>\n",
       "      <td>0.030353</td>\n",
       "      <td>0.009093</td>\n",
       "      <td>-0.009181</td>\n",
       "      <td>0.029372</td>\n",
       "      <td>-0.009055</td>\n",
       "      <td>0.028052</td>\n",
       "      <td>0.108170</td>\n",
       "      <td>0.200195</td>\n",
       "      <td>0.267931</td>\n",
       "      <td>0.237969</td>\n",
       "      <td>0.279478</td>\n",
       "      <td>0.359777</td>\n",
       "      <td>1.000000</td>\n",
       "      <td>-0.081526</td>\n",
       "    </tr>\n",
       "    <tr>\n",
       "      <th>inquiries_last_month</th>\n",
       "      <td>0.041224</td>\n",
       "      <td>0.011215</td>\n",
       "      <td>0.051622</td>\n",
       "      <td>-0.026710</td>\n",
       "      <td>0.011976</td>\n",
       "      <td>0.013659</td>\n",
       "      <td>-0.028225</td>\n",
       "      <td>0.003923</td>\n",
       "      <td>-0.001007</td>\n",
       "      <td>-0.036197</td>\n",
       "      <td>-0.261076</td>\n",
       "      <td>-0.214013</td>\n",
       "      <td>-0.042011</td>\n",
       "      <td>-0.033654</td>\n",
       "      <td>-0.015720</td>\n",
       "      <td>-0.075221</td>\n",
       "      <td>-0.081526</td>\n",
       "      <td>1.000000</td>\n",
       "    </tr>\n",
       "  </tbody>\n",
       "</table>\n",
       "</div>"
      ],
      "text/plain": [
       "                           age  home_owner    income  months_employed  \\\n",
       "age                   1.000000    0.142046  0.174062        -0.103635   \n",
       "home_owner            0.142046    1.000000  0.147487         0.018008   \n",
       "income                0.174062    0.147487  1.000000        -0.049157   \n",
       "months_employed      -0.103635    0.018008 -0.049157         1.000000   \n",
       "years_employed        0.182590    0.027367  0.102139        -0.189805   \n",
       "current_address_year  0.146554    0.179291  0.046982        -0.056609   \n",
       "personal_account_m   -0.013609    0.013782  0.009052         0.211605   \n",
       "personal_account_y    0.041332   -0.047105 -0.002002        -0.019645   \n",
       "has_debt             -0.043808   -0.076206 -0.011199        -0.000546   \n",
       "amount_requested      0.084132    0.033996  0.289099        -0.044234   \n",
       "risk_score            0.162868    0.113608  0.168375        -0.044765   \n",
       "risk_score_2         -0.019163    0.000647 -0.023627         0.028950   \n",
       "risk_score_3          0.111258    0.049708  0.058665        -0.024297   \n",
       "risk_score_4          0.069191   -0.137293 -0.001254        -0.014512   \n",
       "risk_score_5          0.093710   -0.080470  0.025179        -0.019406   \n",
       "ext_quality_score     0.032265    0.010080 -0.008429        -0.009041   \n",
       "ext_quality_score_2   0.040019    0.005507 -0.003323        -0.004461   \n",
       "inquiries_last_month  0.041224    0.011215  0.051622        -0.026710   \n",
       "\n",
       "                      years_employed  current_address_year  \\\n",
       "age                         0.182590              0.146554   \n",
       "home_owner                  0.027367              0.179291   \n",
       "income                      0.102139              0.046982   \n",
       "months_employed            -0.189805             -0.056609   \n",
       "years_employed              1.000000              0.343905   \n",
       "current_address_year        0.343905              1.000000   \n",
       "personal_account_m         -0.052543              0.082491   \n",
       "personal_account_y          0.184879              0.110258   \n",
       "has_debt                    0.005293              0.017423   \n",
       "amount_requested            0.084841              0.067893   \n",
       "risk_score                  0.098960              0.090535   \n",
       "risk_score_2               -0.056574             -0.060412   \n",
       "risk_score_3                0.074659              0.058936   \n",
       "risk_score_4               -0.029398             -0.161052   \n",
       "risk_score_5                0.000234             -0.094545   \n",
       "ext_quality_score           0.014162              0.003362   \n",
       "ext_quality_score_2         0.030353              0.009093   \n",
       "inquiries_last_month        0.011976              0.013659   \n",
       "\n",
       "                      personal_account_m  personal_account_y  has_debt  \\\n",
       "age                            -0.013609            0.041332 -0.043808   \n",
       "home_owner                      0.013782           -0.047105 -0.076206   \n",
       "income                          0.009052           -0.002002 -0.011199   \n",
       "months_employed                 0.211605           -0.019645 -0.000546   \n",
       "years_employed                 -0.052543            0.184879  0.005293   \n",
       "current_address_year            0.082491            0.110258  0.017423   \n",
       "personal_account_m              1.000000           -0.140649  0.246832   \n",
       "personal_account_y             -0.140649            1.000000 -0.030701   \n",
       "has_debt                        0.246832           -0.030701  1.000000   \n",
       "amount_requested               -0.046148            0.051857 -0.008445   \n",
       "risk_score                     -0.044146            0.017071 -0.020332   \n",
       "risk_score_2                   -0.023498            0.027535 -0.034691   \n",
       "risk_score_3                    0.029162            0.079175  0.001108   \n",
       "risk_score_4                   -0.060695            0.012877  0.002074   \n",
       "risk_score_5                   -0.033960            0.042121  0.002341   \n",
       "ext_quality_score              -0.016151            0.039808 -0.021523   \n",
       "ext_quality_score_2            -0.009181            0.029372 -0.009055   \n",
       "inquiries_last_month           -0.028225            0.003923 -0.001007   \n",
       "\n",
       "                      amount_requested  risk_score  risk_score_2  \\\n",
       "age                           0.084132    0.162868     -0.019163   \n",
       "home_owner                    0.033996    0.113608      0.000647   \n",
       "income                        0.289099    0.168375     -0.023627   \n",
       "months_employed              -0.044234   -0.044765      0.028950   \n",
       "years_employed                0.084841    0.098960     -0.056574   \n",
       "current_address_year          0.067893    0.090535     -0.060412   \n",
       "personal_account_m           -0.046148   -0.044146     -0.023498   \n",
       "personal_account_y            0.051857    0.017071      0.027535   \n",
       "has_debt                     -0.008445   -0.020332     -0.034691   \n",
       "amount_requested              1.000000    0.290716      0.005405   \n",
       "risk_score                    0.290716    1.000000      0.208188   \n",
       "risk_score_2                  0.005405    0.208188      1.000000   \n",
       "risk_score_3                  0.045465    0.104861      0.184249   \n",
       "risk_score_4                  0.061459    0.120234      0.225259   \n",
       "risk_score_5                  0.071470    0.130464      0.227510   \n",
       "ext_quality_score             0.025167    0.098649      0.207386   \n",
       "ext_quality_score_2           0.028052    0.108170      0.200195   \n",
       "inquiries_last_month         -0.036197   -0.261076     -0.214013   \n",
       "\n",
       "                      risk_score_3  risk_score_4  risk_score_5  \\\n",
       "age                       0.111258      0.069191      0.093710   \n",
       "home_owner                0.049708     -0.137293     -0.080470   \n",
       "income                    0.058665     -0.001254      0.025179   \n",
       "months_employed          -0.024297     -0.014512     -0.019406   \n",
       "years_employed            0.074659     -0.029398      0.000234   \n",
       "current_address_year      0.058936     -0.161052     -0.094545   \n",
       "personal_account_m        0.029162     -0.060695     -0.033960   \n",
       "personal_account_y        0.079175      0.012877      0.042121   \n",
       "has_debt                  0.001108      0.002074      0.002341   \n",
       "amount_requested          0.045465      0.061459      0.071470   \n",
       "risk_score                0.104861      0.120234      0.130464   \n",
       "risk_score_2              0.184249      0.225259      0.227510   \n",
       "risk_score_3              1.000000      0.166067      0.480369   \n",
       "risk_score_4              0.166067      1.000000      0.588190   \n",
       "risk_score_5              0.480369      0.588190      1.000000   \n",
       "ext_quality_score         0.256866      0.243864      0.284291   \n",
       "ext_quality_score_2       0.267931      0.237969      0.279478   \n",
       "inquiries_last_month     -0.042011     -0.033654     -0.015720   \n",
       "\n",
       "                      ext_quality_score  ext_quality_score_2  \\\n",
       "age                            0.032265             0.040019   \n",
       "home_owner                     0.010080             0.005507   \n",
       "income                        -0.008429            -0.003323   \n",
       "months_employed               -0.009041            -0.004461   \n",
       "years_employed                 0.014162             0.030353   \n",
       "current_address_year           0.003362             0.009093   \n",
       "personal_account_m            -0.016151            -0.009181   \n",
       "personal_account_y             0.039808             0.029372   \n",
       "has_debt                      -0.021523            -0.009055   \n",
       "amount_requested               0.025167             0.028052   \n",
       "risk_score                     0.098649             0.108170   \n",
       "risk_score_2                   0.207386             0.200195   \n",
       "risk_score_3                   0.256866             0.267931   \n",
       "risk_score_4                   0.243864             0.237969   \n",
       "risk_score_5                   0.284291             0.279478   \n",
       "ext_quality_score              1.000000             0.359777   \n",
       "ext_quality_score_2            0.359777             1.000000   \n",
       "inquiries_last_month          -0.075221            -0.081526   \n",
       "\n",
       "                      inquiries_last_month  \n",
       "age                               0.041224  \n",
       "home_owner                        0.011215  \n",
       "income                            0.051622  \n",
       "months_employed                  -0.026710  \n",
       "years_employed                    0.011976  \n",
       "current_address_year              0.013659  \n",
       "personal_account_m               -0.028225  \n",
       "personal_account_y                0.003923  \n",
       "has_debt                         -0.001007  \n",
       "amount_requested                 -0.036197  \n",
       "risk_score                       -0.261076  \n",
       "risk_score_2                     -0.214013  \n",
       "risk_score_3                     -0.042011  \n",
       "risk_score_4                     -0.033654  \n",
       "risk_score_5                     -0.015720  \n",
       "ext_quality_score                -0.075221  \n",
       "ext_quality_score_2              -0.081526  \n",
       "inquiries_last_month              1.000000  "
      ]
     },
     "execution_count": 19,
     "metadata": {},
     "output_type": "execute_result"
    }
   ],
   "source": [
    "dataset2.corr()"
   ]
  },
  {
   "cell_type": "code",
   "execution_count": 20,
   "id": "46df0870",
   "metadata": {},
   "outputs": [
    {
     "data": {
      "text/plain": [
       "<AxesSubplot:>"
      ]
     },
     "execution_count": 20,
     "metadata": {},
     "output_type": "execute_result"
    },
    {
     "data": {
      "image/png": "[encoded data removed]",
      "text/plain": [
       "<Figure size 1440x648 with 2 Axes>"
      ]
     },
     "metadata": {
      "needs_background": "light"
     },
     "output_type": "display_data"
    }
   ],
   "source": [
    "#we need to see whether the features are strongly correlated to each other?\n",
    "plt.figure(figsize=(20,9))\n",
    "sns.heatmap(dataset2.corr(), annot=True, cmap='viridis')"
   ]
  },
  {
   "cell_type": "code",
   "execution_count": 21,
   "id": "7b5f9c72",
   "metadata": {},
   "outputs": [
    {
     "data": {
      "image/png": "[encoded data removed]",
      "text/plain": [
       "<Figure size 1800x1080 with 2 Axes>"
      ]
     },
     "metadata": {
      "needs_background": "light"
     },
     "output_type": "display_data"
    }
   ],
   "source": [
    "#Visualising the lower triangle of heatmap\n",
    "corr_matrix = dataset2.corr()\n",
    "mask = np.triu(np.ones_like(corr_matrix, dtype=bool))\n",
    "plt.figure(figsize=(25, 15))\n",
    "sns.heatmap(corr_matrix, mask=mask, annot=True, cmap='viridis', fmt=\".2f\")\n",
    "plt.show()"
   ]
  },
  {
   "cell_type": "code",
   "execution_count": 22,
   "id": "99e29441",
   "metadata": {},
   "outputs": [],
   "source": [
    "#Data Pre-Processing\n",
    "filepath= r\"C:\\Users\\simra\\Desktop\\Python_DS_Station\\Data Science_Projects\\Predicting the likelihood of E-signing a loan based on Financial History\\P39-Financial-Data.csv\"\n",
    "\n",
    "dataset= pd.read_csv(filepath)"
   ]
  },
  {
   "cell_type": "code",
   "execution_count": 23,
   "id": "452c7bd2",
   "metadata": {},
   "outputs": [],
   "source": [
    "#Feature Engineering\n",
    "dataset= dataset.drop(columns=['months_employed'])"
   ]
  },
  {
   "cell_type": "code",
   "execution_count": 24,
   "id": "e2b7f646",
   "metadata": {},
   "outputs": [],
   "source": [
    "dataset['personal_account_months']= (dataset['personal_account_m'] + (dataset['personal_account_y']*12))"
   ]
  },
  {
   "cell_type": "code",
   "execution_count": 25,
   "id": "46480cda",
   "metadata": {},
   "outputs": [
    {
     "data": {
      "text/html": [
       "<div>\n",
       "<style scoped>\n",
       "    .dataframe tbody tr th:only-of-type {\n",
       "        vertical-align: middle;\n",
       "    }\n",
       "\n",
       "    .dataframe tbody tr th {\n",
       "        vertical-align: top;\n",
       "    }\n",
       "\n",
       "    .dataframe thead th {\n",
       "        text-align: right;\n",
       "    }\n",
       "</style>\n",
       "<table border=\"1\" class=\"dataframe\">\n",
       "  <thead>\n",
       "    <tr style=\"text-align: right;\">\n",
       "      <th></th>\n",
       "      <th>personal_account_m</th>\n",
       "      <th>personal_account_y</th>\n",
       "      <th>personal_account_months</th>\n",
       "    </tr>\n",
       "  </thead>\n",
       "  <tbody>\n",
       "    <tr>\n",
       "      <th>0</th>\n",
       "      <td>6</td>\n",
       "      <td>2</td>\n",
       "      <td>30</td>\n",
       "    </tr>\n",
       "    <tr>\n",
       "      <th>1</th>\n",
       "      <td>2</td>\n",
       "      <td>7</td>\n",
       "      <td>86</td>\n",
       "    </tr>\n",
       "    <tr>\n",
       "      <th>2</th>\n",
       "      <td>7</td>\n",
       "      <td>1</td>\n",
       "      <td>19</td>\n",
       "    </tr>\n",
       "    <tr>\n",
       "      <th>3</th>\n",
       "      <td>2</td>\n",
       "      <td>7</td>\n",
       "      <td>86</td>\n",
       "    </tr>\n",
       "    <tr>\n",
       "      <th>4</th>\n",
       "      <td>2</td>\n",
       "      <td>8</td>\n",
       "      <td>98</td>\n",
       "    </tr>\n",
       "    <tr>\n",
       "      <th>...</th>\n",
       "      <td>...</td>\n",
       "      <td>...</td>\n",
       "      <td>...</td>\n",
       "    </tr>\n",
       "    <tr>\n",
       "      <th>17903</th>\n",
       "      <td>2</td>\n",
       "      <td>6</td>\n",
       "      <td>74</td>\n",
       "    </tr>\n",
       "    <tr>\n",
       "      <th>17904</th>\n",
       "      <td>3</td>\n",
       "      <td>3</td>\n",
       "      <td>39</td>\n",
       "    </tr>\n",
       "    <tr>\n",
       "      <th>17905</th>\n",
       "      <td>1</td>\n",
       "      <td>8</td>\n",
       "      <td>97</td>\n",
       "    </tr>\n",
       "    <tr>\n",
       "      <th>17906</th>\n",
       "      <td>6</td>\n",
       "      <td>1</td>\n",
       "      <td>18</td>\n",
       "    </tr>\n",
       "    <tr>\n",
       "      <th>17907</th>\n",
       "      <td>4</td>\n",
       "      <td>1</td>\n",
       "      <td>16</td>\n",
       "    </tr>\n",
       "  </tbody>\n",
       "</table>\n",
       "<p>17908 rows × 3 columns</p>\n",
       "</div>"
      ],
      "text/plain": [
       "       personal_account_m  personal_account_y  personal_account_months\n",
       "0                       6                   2                       30\n",
       "1                       2                   7                       86\n",
       "2                       7                   1                       19\n",
       "3                       2                   7                       86\n",
       "4                       2                   8                       98\n",
       "...                   ...                 ...                      ...\n",
       "17903                   2                   6                       74\n",
       "17904                   3                   3                       39\n",
       "17905                   1                   8                       97\n",
       "17906                   6                   1                       18\n",
       "17907                   4                   1                       16\n",
       "\n",
       "[17908 rows x 3 columns]"
      ]
     },
     "execution_count": 25,
     "metadata": {},
     "output_type": "execute_result"
    }
   ],
   "source": [
    "dataset[['personal_account_m', 'personal_account_y','personal_account_months']]"
   ]
  },
  {
   "cell_type": "code",
   "execution_count": 26,
   "id": "c58c4439",
   "metadata": {},
   "outputs": [],
   "source": [
    "dataset= dataset.drop(columns=['personal_account_m', 'personal_account_y'])"
   ]
  },
  {
   "cell_type": "code",
   "execution_count": 27,
   "id": "49ab45fe",
   "metadata": {},
   "outputs": [
    {
     "data": {
      "text/html": [
       "<div>\n",
       "<style scoped>\n",
       "    .dataframe tbody tr th:only-of-type {\n",
       "        vertical-align: middle;\n",
       "    }\n",
       "\n",
       "    .dataframe tbody tr th {\n",
       "        vertical-align: top;\n",
       "    }\n",
       "\n",
       "    .dataframe thead th {\n",
       "        text-align: right;\n",
       "    }\n",
       "</style>\n",
       "<table border=\"1\" class=\"dataframe\">\n",
       "  <thead>\n",
       "    <tr style=\"text-align: right;\">\n",
       "      <th></th>\n",
       "      <th>entry_id</th>\n",
       "      <th>age</th>\n",
       "      <th>pay_schedule</th>\n",
       "      <th>home_owner</th>\n",
       "      <th>income</th>\n",
       "      <th>years_employed</th>\n",
       "      <th>current_address_year</th>\n",
       "      <th>has_debt</th>\n",
       "      <th>amount_requested</th>\n",
       "      <th>risk_score</th>\n",
       "      <th>risk_score_2</th>\n",
       "      <th>risk_score_3</th>\n",
       "      <th>risk_score_4</th>\n",
       "      <th>risk_score_5</th>\n",
       "      <th>ext_quality_score</th>\n",
       "      <th>ext_quality_score_2</th>\n",
       "      <th>inquiries_last_month</th>\n",
       "      <th>e_signed</th>\n",
       "      <th>personal_account_months</th>\n",
       "    </tr>\n",
       "  </thead>\n",
       "  <tbody>\n",
       "    <tr>\n",
       "      <th>0</th>\n",
       "      <td>7629673</td>\n",
       "      <td>40</td>\n",
       "      <td>bi-weekly</td>\n",
       "      <td>1</td>\n",
       "      <td>3135</td>\n",
       "      <td>3</td>\n",
       "      <td>3</td>\n",
       "      <td>1</td>\n",
       "      <td>550</td>\n",
       "      <td>36200</td>\n",
       "      <td>0.737398</td>\n",
       "      <td>0.903517</td>\n",
       "      <td>0.487712</td>\n",
       "      <td>0.515977</td>\n",
       "      <td>0.580918</td>\n",
       "      <td>0.380918</td>\n",
       "      <td>10</td>\n",
       "      <td>1</td>\n",
       "      <td>30</td>\n",
       "    </tr>\n",
       "    <tr>\n",
       "      <th>1</th>\n",
       "      <td>3560428</td>\n",
       "      <td>61</td>\n",
       "      <td>weekly</td>\n",
       "      <td>0</td>\n",
       "      <td>3180</td>\n",
       "      <td>6</td>\n",
       "      <td>3</td>\n",
       "      <td>1</td>\n",
       "      <td>600</td>\n",
       "      <td>30150</td>\n",
       "      <td>0.738510</td>\n",
       "      <td>0.881027</td>\n",
       "      <td>0.713423</td>\n",
       "      <td>0.826402</td>\n",
       "      <td>0.730720</td>\n",
       "      <td>0.630720</td>\n",
       "      <td>9</td>\n",
       "      <td>0</td>\n",
       "      <td>86</td>\n",
       "    </tr>\n",
       "    <tr>\n",
       "      <th>2</th>\n",
       "      <td>6934997</td>\n",
       "      <td>23</td>\n",
       "      <td>weekly</td>\n",
       "      <td>0</td>\n",
       "      <td>1540</td>\n",
       "      <td>0</td>\n",
       "      <td>0</td>\n",
       "      <td>1</td>\n",
       "      <td>450</td>\n",
       "      <td>34550</td>\n",
       "      <td>0.642993</td>\n",
       "      <td>0.766554</td>\n",
       "      <td>0.595018</td>\n",
       "      <td>0.762284</td>\n",
       "      <td>0.531712</td>\n",
       "      <td>0.531712</td>\n",
       "      <td>7</td>\n",
       "      <td>0</td>\n",
       "      <td>19</td>\n",
       "    </tr>\n",
       "    <tr>\n",
       "      <th>3</th>\n",
       "      <td>5682812</td>\n",
       "      <td>40</td>\n",
       "      <td>bi-weekly</td>\n",
       "      <td>0</td>\n",
       "      <td>5230</td>\n",
       "      <td>6</td>\n",
       "      <td>1</td>\n",
       "      <td>1</td>\n",
       "      <td>700</td>\n",
       "      <td>42150</td>\n",
       "      <td>0.665224</td>\n",
       "      <td>0.960832</td>\n",
       "      <td>0.767828</td>\n",
       "      <td>0.778831</td>\n",
       "      <td>0.792552</td>\n",
       "      <td>0.592552</td>\n",
       "      <td>8</td>\n",
       "      <td>1</td>\n",
       "      <td>86</td>\n",
       "    </tr>\n",
       "    <tr>\n",
       "      <th>4</th>\n",
       "      <td>5335819</td>\n",
       "      <td>33</td>\n",
       "      <td>semi-monthly</td>\n",
       "      <td>0</td>\n",
       "      <td>3590</td>\n",
       "      <td>5</td>\n",
       "      <td>2</td>\n",
       "      <td>1</td>\n",
       "      <td>1100</td>\n",
       "      <td>53850</td>\n",
       "      <td>0.617361</td>\n",
       "      <td>0.857560</td>\n",
       "      <td>0.613487</td>\n",
       "      <td>0.665523</td>\n",
       "      <td>0.744634</td>\n",
       "      <td>0.744634</td>\n",
       "      <td>12</td>\n",
       "      <td>0</td>\n",
       "      <td>98</td>\n",
       "    </tr>\n",
       "  </tbody>\n",
       "</table>\n",
       "</div>"
      ],
      "text/plain": [
       "   entry_id  age  pay_schedule  home_owner  income  years_employed  \\\n",
       "0   7629673   40     bi-weekly           1    3135               3   \n",
       "1   3560428   61        weekly           0    3180               6   \n",
       "2   6934997   23        weekly           0    1540               0   \n",
       "3   5682812   40     bi-weekly           0    5230               6   \n",
       "4   5335819   33  semi-monthly           0    3590               5   \n",
       "\n",
       "   current_address_year  has_debt  amount_requested  risk_score  risk_score_2  \\\n",
       "0                     3         1               550       36200      0.737398   \n",
       "1                     3         1               600       30150      0.738510   \n",
       "2                     0         1               450       34550      0.642993   \n",
       "3                     1         1               700       42150      0.665224   \n",
       "4                     2         1              1100       53850      0.617361   \n",
       "\n",
       "   risk_score_3  risk_score_4  risk_score_5  ext_quality_score  \\\n",
       "0      0.903517      0.487712      0.515977           0.580918   \n",
       "1      0.881027      0.713423      0.826402           0.730720   \n",
       "2      0.766554      0.595018      0.762284           0.531712   \n",
       "3      0.960832      0.767828      0.778831           0.792552   \n",
       "4      0.857560      0.613487      0.665523           0.744634   \n",
       "\n",
       "   ext_quality_score_2  inquiries_last_month  e_signed  \\\n",
       "0             0.380918                    10         1   \n",
       "1             0.630720                     9         0   \n",
       "2             0.531712                     7         0   \n",
       "3             0.592552                     8         1   \n",
       "4             0.744634                    12         0   \n",
       "\n",
       "   personal_account_months  \n",
       "0                       30  \n",
       "1                       86  \n",
       "2                       19  \n",
       "3                       86  \n",
       "4                       98  "
      ]
     },
     "execution_count": 27,
     "metadata": {},
     "output_type": "execute_result"
    }
   ],
   "source": [
    "dataset.head()"
   ]
  },
  {
   "cell_type": "code",
   "execution_count": 28,
   "id": "f4febcdc",
   "metadata": {},
   "outputs": [],
   "source": [
    "#One Hot Encoding\n",
    "dataset= pd.get_dummies(dataset)"
   ]
  },
  {
   "cell_type": "code",
   "execution_count": 29,
   "id": "34ce56dd",
   "metadata": {},
   "outputs": [
    {
     "data": {
      "text/plain": [
       "Index(['entry_id', 'age', 'home_owner', 'income', 'years_employed',\n",
       "       'current_address_year', 'has_debt', 'amount_requested', 'risk_score',\n",
       "       'risk_score_2', 'risk_score_3', 'risk_score_4', 'risk_score_5',\n",
       "       'ext_quality_score', 'ext_quality_score_2', 'inquiries_last_month',\n",
       "       'e_signed', 'personal_account_months', 'pay_schedule_bi-weekly',\n",
       "       'pay_schedule_monthly', 'pay_schedule_semi-monthly',\n",
       "       'pay_schedule_weekly'],\n",
       "      dtype='object')"
      ]
     },
     "execution_count": 29,
     "metadata": {},
     "output_type": "execute_result"
    }
   ],
   "source": [
    "dataset.columns"
   ]
  },
  {
   "cell_type": "code",
   "execution_count": 30,
   "id": "d8673b8b",
   "metadata": {},
   "outputs": [],
   "source": [
    "#payschedule was object type and afte using one hot encoding, it got splitted into 4 diff columns.\n",
    "#we thus need to remove one of them to make linearly independent column.\n",
    "# Well, this is a choice that you can do.There's no right answer for this.\n",
    "#I personally going to remove semi-monthly just because semi-monthly is the weirdest of the pay_schedules.And odds are it's going to be the less frequent.So I'm just going to remove that one."
   ]
  },
  {
   "cell_type": "code",
   "execution_count": 31,
   "id": "9161a56e",
   "metadata": {},
   "outputs": [],
   "source": [
    "dataset= dataset.drop(columns=['pay_schedule_semi-monthly'])"
   ]
  },
  {
   "cell_type": "code",
   "execution_count": 32,
   "id": "ebf738f9",
   "metadata": {},
   "outputs": [],
   "source": [
    "#removing extra columns\n",
    "response= dataset['e_signed']\n",
    "users= dataset['entry_id']\n",
    "dataset= dataset.drop(columns=['e_signed','entry_id'])"
   ]
  },
  {
   "cell_type": "code",
   "execution_count": 33,
   "id": "e34e704c",
   "metadata": {},
   "outputs": [],
   "source": [
    "#splitting the dataset into training and testing set"
   ]
  },
  {
   "cell_type": "code",
   "execution_count": 34,
   "id": "b1ebcd95",
   "metadata": {},
   "outputs": [],
   "source": [
    "from sklearn.model_selection import train_test_split\n",
    "X_train, X_test, y_train, y_test = train_test_split(dataset, response, test_size = 0.2,random_state = 0)     "
   ]
  },
  {
   "cell_type": "code",
   "execution_count": 35,
   "id": "50aadf5f",
   "metadata": {},
   "outputs": [
    {
     "data": {
      "text/html": [
       "<div>\n",
       "<style scoped>\n",
       "    .dataframe tbody tr th:only-of-type {\n",
       "        vertical-align: middle;\n",
       "    }\n",
       "\n",
       "    .dataframe tbody tr th {\n",
       "        vertical-align: top;\n",
       "    }\n",
       "\n",
       "    .dataframe thead th {\n",
       "        text-align: right;\n",
       "    }\n",
       "</style>\n",
       "<table border=\"1\" class=\"dataframe\">\n",
       "  <thead>\n",
       "    <tr style=\"text-align: right;\">\n",
       "      <th></th>\n",
       "      <th>age</th>\n",
       "      <th>home_owner</th>\n",
       "      <th>income</th>\n",
       "      <th>years_employed</th>\n",
       "      <th>current_address_year</th>\n",
       "      <th>has_debt</th>\n",
       "      <th>amount_requested</th>\n",
       "      <th>risk_score</th>\n",
       "      <th>risk_score_2</th>\n",
       "      <th>risk_score_3</th>\n",
       "      <th>risk_score_4</th>\n",
       "      <th>risk_score_5</th>\n",
       "      <th>ext_quality_score</th>\n",
       "      <th>ext_quality_score_2</th>\n",
       "      <th>inquiries_last_month</th>\n",
       "      <th>personal_account_months</th>\n",
       "      <th>pay_schedule_bi-weekly</th>\n",
       "      <th>pay_schedule_monthly</th>\n",
       "      <th>pay_schedule_weekly</th>\n",
       "    </tr>\n",
       "  </thead>\n",
       "  <tbody>\n",
       "    <tr>\n",
       "      <th>5957</th>\n",
       "      <td>43</td>\n",
       "      <td>0</td>\n",
       "      <td>3295</td>\n",
       "      <td>0</td>\n",
       "      <td>2</td>\n",
       "      <td>1</td>\n",
       "      <td>500</td>\n",
       "      <td>31700</td>\n",
       "      <td>0.584310</td>\n",
       "      <td>0.836281</td>\n",
       "      <td>0.706562</td>\n",
       "      <td>0.689824</td>\n",
       "      <td>0.475014</td>\n",
       "      <td>0.475014</td>\n",
       "      <td>13</td>\n",
       "      <td>54</td>\n",
       "      <td>0</td>\n",
       "      <td>0</td>\n",
       "      <td>1</td>\n",
       "    </tr>\n",
       "    <tr>\n",
       "      <th>16854</th>\n",
       "      <td>37</td>\n",
       "      <td>0</td>\n",
       "      <td>3580</td>\n",
       "      <td>4</td>\n",
       "      <td>1</td>\n",
       "      <td>1</td>\n",
       "      <td>400</td>\n",
       "      <td>49500</td>\n",
       "      <td>0.805133</td>\n",
       "      <td>0.911328</td>\n",
       "      <td>0.533152</td>\n",
       "      <td>0.817170</td>\n",
       "      <td>0.628865</td>\n",
       "      <td>0.528865</td>\n",
       "      <td>4</td>\n",
       "      <td>39</td>\n",
       "      <td>0</td>\n",
       "      <td>1</td>\n",
       "      <td>0</td>\n",
       "    </tr>\n",
       "    <tr>\n",
       "      <th>4429</th>\n",
       "      <td>34</td>\n",
       "      <td>1</td>\n",
       "      <td>3040</td>\n",
       "      <td>1</td>\n",
       "      <td>1</td>\n",
       "      <td>0</td>\n",
       "      <td>500</td>\n",
       "      <td>38900</td>\n",
       "      <td>0.739929</td>\n",
       "      <td>0.796979</td>\n",
       "      <td>0.572134</td>\n",
       "      <td>0.623745</td>\n",
       "      <td>0.705180</td>\n",
       "      <td>0.505180</td>\n",
       "      <td>11</td>\n",
       "      <td>50</td>\n",
       "      <td>1</td>\n",
       "      <td>0</td>\n",
       "      <td>0</td>\n",
       "    </tr>\n",
       "    <tr>\n",
       "      <th>13607</th>\n",
       "      <td>60</td>\n",
       "      <td>1</td>\n",
       "      <td>2700</td>\n",
       "      <td>5</td>\n",
       "      <td>10</td>\n",
       "      <td>1</td>\n",
       "      <td>400</td>\n",
       "      <td>50550</td>\n",
       "      <td>0.633806</td>\n",
       "      <td>0.970787</td>\n",
       "      <td>0.425184</td>\n",
       "      <td>0.593275</td>\n",
       "      <td>0.837044</td>\n",
       "      <td>0.737044</td>\n",
       "      <td>6</td>\n",
       "      <td>100</td>\n",
       "      <td>1</td>\n",
       "      <td>0</td>\n",
       "      <td>0</td>\n",
       "    </tr>\n",
       "    <tr>\n",
       "      <th>3750</th>\n",
       "      <td>24</td>\n",
       "      <td>0</td>\n",
       "      <td>2095</td>\n",
       "      <td>6</td>\n",
       "      <td>10</td>\n",
       "      <td>1</td>\n",
       "      <td>600</td>\n",
       "      <td>73050</td>\n",
       "      <td>0.669362</td>\n",
       "      <td>0.860915</td>\n",
       "      <td>0.468355</td>\n",
       "      <td>0.744855</td>\n",
       "      <td>0.638230</td>\n",
       "      <td>0.838230</td>\n",
       "      <td>3</td>\n",
       "      <td>42</td>\n",
       "      <td>1</td>\n",
       "      <td>0</td>\n",
       "      <td>0</td>\n",
       "    </tr>\n",
       "    <tr>\n",
       "      <th>...</th>\n",
       "      <td>...</td>\n",
       "      <td>...</td>\n",
       "      <td>...</td>\n",
       "      <td>...</td>\n",
       "      <td>...</td>\n",
       "      <td>...</td>\n",
       "      <td>...</td>\n",
       "      <td>...</td>\n",
       "      <td>...</td>\n",
       "      <td>...</td>\n",
       "      <td>...</td>\n",
       "      <td>...</td>\n",
       "      <td>...</td>\n",
       "      <td>...</td>\n",
       "      <td>...</td>\n",
       "      <td>...</td>\n",
       "      <td>...</td>\n",
       "      <td>...</td>\n",
       "      <td>...</td>\n",
       "    </tr>\n",
       "    <tr>\n",
       "      <th>9225</th>\n",
       "      <td>52</td>\n",
       "      <td>0</td>\n",
       "      <td>3030</td>\n",
       "      <td>5</td>\n",
       "      <td>3</td>\n",
       "      <td>1</td>\n",
       "      <td>600</td>\n",
       "      <td>56500</td>\n",
       "      <td>0.759140</td>\n",
       "      <td>0.878872</td>\n",
       "      <td>0.630102</td>\n",
       "      <td>0.864939</td>\n",
       "      <td>0.456575</td>\n",
       "      <td>0.456575</td>\n",
       "      <td>6</td>\n",
       "      <td>42</td>\n",
       "      <td>0</td>\n",
       "      <td>0</td>\n",
       "      <td>1</td>\n",
       "    </tr>\n",
       "    <tr>\n",
       "      <th>13123</th>\n",
       "      <td>29</td>\n",
       "      <td>1</td>\n",
       "      <td>1690</td>\n",
       "      <td>3</td>\n",
       "      <td>2</td>\n",
       "      <td>1</td>\n",
       "      <td>700</td>\n",
       "      <td>54150</td>\n",
       "      <td>0.694791</td>\n",
       "      <td>0.850714</td>\n",
       "      <td>0.631073</td>\n",
       "      <td>0.566799</td>\n",
       "      <td>0.629550</td>\n",
       "      <td>0.829550</td>\n",
       "      <td>5</td>\n",
       "      <td>41</td>\n",
       "      <td>1</td>\n",
       "      <td>0</td>\n",
       "      <td>0</td>\n",
       "    </tr>\n",
       "    <tr>\n",
       "      <th>9845</th>\n",
       "      <td>45</td>\n",
       "      <td>0</td>\n",
       "      <td>2960</td>\n",
       "      <td>2</td>\n",
       "      <td>1</td>\n",
       "      <td>1</td>\n",
       "      <td>450</td>\n",
       "      <td>33050</td>\n",
       "      <td>0.654987</td>\n",
       "      <td>0.891217</td>\n",
       "      <td>0.630338</td>\n",
       "      <td>0.744328</td>\n",
       "      <td>0.421326</td>\n",
       "      <td>0.421326</td>\n",
       "      <td>8</td>\n",
       "      <td>12</td>\n",
       "      <td>1</td>\n",
       "      <td>0</td>\n",
       "      <td>0</td>\n",
       "    </tr>\n",
       "    <tr>\n",
       "      <th>10799</th>\n",
       "      <td>56</td>\n",
       "      <td>0</td>\n",
       "      <td>2610</td>\n",
       "      <td>9</td>\n",
       "      <td>8</td>\n",
       "      <td>0</td>\n",
       "      <td>2700</td>\n",
       "      <td>47450</td>\n",
       "      <td>0.665292</td>\n",
       "      <td>0.880005</td>\n",
       "      <td>0.716262</td>\n",
       "      <td>0.837618</td>\n",
       "      <td>0.641344</td>\n",
       "      <td>0.741344</td>\n",
       "      <td>4</td>\n",
       "      <td>134</td>\n",
       "      <td>0</td>\n",
       "      <td>0</td>\n",
       "      <td>0</td>\n",
       "    </tr>\n",
       "    <tr>\n",
       "      <th>2732</th>\n",
       "      <td>34</td>\n",
       "      <td>0</td>\n",
       "      <td>3110</td>\n",
       "      <td>4</td>\n",
       "      <td>2</td>\n",
       "      <td>0</td>\n",
       "      <td>700</td>\n",
       "      <td>59150</td>\n",
       "      <td>0.734723</td>\n",
       "      <td>0.861925</td>\n",
       "      <td>0.685292</td>\n",
       "      <td>0.685334</td>\n",
       "      <td>0.819339</td>\n",
       "      <td>0.519339</td>\n",
       "      <td>3</td>\n",
       "      <td>16</td>\n",
       "      <td>1</td>\n",
       "      <td>0</td>\n",
       "      <td>0</td>\n",
       "    </tr>\n",
       "  </tbody>\n",
       "</table>\n",
       "<p>14326 rows × 19 columns</p>\n",
       "</div>"
      ],
      "text/plain": [
       "       age  home_owner  income  years_employed  current_address_year  \\\n",
       "5957    43           0    3295               0                     2   \n",
       "16854   37           0    3580               4                     1   \n",
       "4429    34           1    3040               1                     1   \n",
       "13607   60           1    2700               5                    10   \n",
       "3750    24           0    2095               6                    10   \n",
       "...    ...         ...     ...             ...                   ...   \n",
       "9225    52           0    3030               5                     3   \n",
       "13123   29           1    1690               3                     2   \n",
       "9845    45           0    2960               2                     1   \n",
       "10799   56           0    2610               9                     8   \n",
       "2732    34           0    3110               4                     2   \n",
       "\n",
       "       has_debt  amount_requested  risk_score  risk_score_2  risk_score_3  \\\n",
       "5957          1               500       31700      0.584310      0.836281   \n",
       "16854         1               400       49500      0.805133      0.911328   \n",
       "4429          0               500       38900      0.739929      0.796979   \n",
       "13607         1               400       50550      0.633806      0.970787   \n",
       "3750          1               600       73050      0.669362      0.860915   \n",
       "...         ...               ...         ...           ...           ...   \n",
       "9225          1               600       56500      0.759140      0.878872   \n",
       "13123         1               700       54150      0.694791      0.850714   \n",
       "9845          1               450       33050      0.654987      0.891217   \n",
       "10799         0              2700       47450      0.665292      0.880005   \n",
       "2732          0               700       59150      0.734723      0.861925   \n",
       "\n",
       "       risk_score_4  risk_score_5  ext_quality_score  ext_quality_score_2  \\\n",
       "5957       0.706562      0.689824           0.475014             0.475014   \n",
       "16854      0.533152      0.817170           0.628865             0.528865   \n",
       "4429       0.572134      0.623745           0.705180             0.505180   \n",
       "13607      0.425184      0.593275           0.837044             0.737044   \n",
       "3750       0.468355      0.744855           0.638230             0.838230   \n",
       "...             ...           ...                ...                  ...   \n",
       "9225       0.630102      0.864939           0.456575             0.456575   \n",
       "13123      0.631073      0.566799           0.629550             0.829550   \n",
       "9845       0.630338      0.744328           0.421326             0.421326   \n",
       "10799      0.716262      0.837618           0.641344             0.741344   \n",
       "2732       0.685292      0.685334           0.819339             0.519339   \n",
       "\n",
       "       inquiries_last_month  personal_account_months  pay_schedule_bi-weekly  \\\n",
       "5957                     13                       54                       0   \n",
       "16854                     4                       39                       0   \n",
       "4429                     11                       50                       1   \n",
       "13607                     6                      100                       1   \n",
       "3750                      3                       42                       1   \n",
       "...                     ...                      ...                     ...   \n",
       "9225                      6                       42                       0   \n",
       "13123                     5                       41                       1   \n",
       "9845                      8                       12                       1   \n",
       "10799                     4                      134                       0   \n",
       "2732                      3                       16                       1   \n",
       "\n",
       "       pay_schedule_monthly  pay_schedule_weekly  \n",
       "5957                      0                    1  \n",
       "16854                     1                    0  \n",
       "4429                      0                    0  \n",
       "13607                     0                    0  \n",
       "3750                      0                    0  \n",
       "...                     ...                  ...  \n",
       "9225                      0                    1  \n",
       "13123                     0                    0  \n",
       "9845                      0                    0  \n",
       "10799                     0                    0  \n",
       "2732                      0                    0  \n",
       "\n",
       "[14326 rows x 19 columns]"
      ]
     },
     "execution_count": 35,
     "metadata": {},
     "output_type": "execute_result"
    }
   ],
   "source": [
    "X_train"
   ]
  },
  {
   "cell_type": "code",
   "execution_count": 36,
   "id": "16a49d7a",
   "metadata": {},
   "outputs": [],
   "source": [
    "#Feature Scaling"
   ]
  },
  {
   "cell_type": "code",
   "execution_count": 37,
   "id": "c51188fe",
   "metadata": {},
   "outputs": [],
   "source": [
    "from sklearn.preprocessing import StandardScaler\n",
    "\n",
    "SC= StandardScaler()\n",
    "X_train= SC.fit_transform(X_train)\n",
    "X_test= SC.transform(X_test)"
   ]
  },
  {
   "cell_type": "code",
   "execution_count": 38,
   "id": "816aa7be",
   "metadata": {},
   "outputs": [
    {
     "data": {
      "text/plain": [
       "array([[-0.00599126, -0.85634884, -0.24235846, ..., -1.22463801,\n",
       "        -0.30236006,  1.97682704],\n",
       "       [-0.50989022, -0.85634884, -0.05259224, ..., -1.22463801,\n",
       "         3.30731512, -0.50586115],\n",
       "       [-0.7618397 ,  1.16774842, -0.41214928, ...,  0.81656783,\n",
       "        -0.30236006, -0.50586115],\n",
       "       ...,\n",
       "       [ 0.16197506, -0.85634884, -0.46541699, ...,  0.81656783,\n",
       "        -0.30236006, -0.50586115],\n",
       "       [ 1.08578982, -0.85634884, -0.69846323, ..., -1.22463801,\n",
       "        -0.30236006, -0.50586115],\n",
       "       [-0.7618397 , -0.85634884, -0.36554004, ...,  0.81656783,\n",
       "        -0.30236006, -0.50586115]])"
      ]
     },
     "execution_count": 38,
     "metadata": {},
     "output_type": "execute_result"
    }
   ],
   "source": [
    "X_train"
   ]
  },
  {
   "cell_type": "code",
   "execution_count": 39,
   "id": "cdcef80d",
   "metadata": {},
   "outputs": [
    {
     "data": {
      "text/plain": [
       "array([[-1.01378918, -0.85634884, -0.24235846, ..., -1.22463801,\n",
       "        -0.30236006, -0.50586115],\n",
       "       [-1.01378918, -0.85634884, -0.33557695, ...,  0.81656783,\n",
       "        -0.30236006, -0.50586115],\n",
       "       [ 0.24595822, -0.85634884, -0.59858627, ..., -1.22463801,\n",
       "        -0.30236006, -0.50586115],\n",
       "       ...,\n",
       "       [-0.08997442, -0.85634884, -0.41214928, ...,  0.81656783,\n",
       "        -0.30236006, -0.50586115],\n",
       "       [-0.25794074, -0.85634884, -0.25567539, ...,  0.81656783,\n",
       "        -0.30236006, -0.50586115],\n",
       "       [-0.08997442, -0.85634884, -0.72176785, ..., -1.22463801,\n",
       "        -0.30236006,  1.97682704]])"
      ]
     },
     "execution_count": 39,
     "metadata": {},
     "output_type": "execute_result"
    }
   ],
   "source": [
    "X_test"
   ]
  },
  {
   "cell_type": "code",
   "execution_count": 40,
   "id": "a19303ab",
   "metadata": {},
   "outputs": [],
   "source": [
    "#Model Building\n",
    "#Comparing Models"
   ]
  },
  {
   "cell_type": "code",
   "execution_count": 41,
   "id": "ae0c4eaf",
   "metadata": {},
   "outputs": [
    {
     "data": {
      "text/html": [
       "<style>#sk-container-id-1 {color: black;}#sk-container-id-1 pre{padding: 0;}#sk-container-id-1 div.sk-toggleable {background-color: white;}#sk-container-id-1 label.sk-toggleable__label {cursor: pointer;display: block;width: 100%;margin-bottom: 0;padding: 0.3em;box-sizing: border-box;text-align: center;}#sk-container-id-1 label.sk-toggleable__label-arrow:before {content: \"▸\";float: left;margin-right: 0.25em;color: #696969;}#sk-container-id-1 label.sk-toggleable__label-arrow:hover:before {color: black;}#sk-container-id-1 div.sk-estimator:hover label.sk-toggleable__label-arrow:before {color: black;}#sk-container-id-1 div.sk-toggleable__content {max-height: 0;max-width: 0;overflow: hidden;text-align: left;background-color: #f0f8ff;}#sk-container-id-1 div.sk-toggleable__content pre {margin: 0.2em;color: black;border-radius: 0.25em;background-color: #f0f8ff;}#sk-container-id-1 input.sk-toggleable__control:checked~div.sk-toggleable__content {max-height: 200px;max-width: 100%;overflow: auto;}#sk-container-id-1 input.sk-toggleable__control:checked~label.sk-toggleable__label-arrow:before {content: \"▾\";}#sk-container-id-1 div.sk-estimator input.sk-toggleable__control:checked~label.sk-toggleable__label {background-color: #d4ebff;}#sk-container-id-1 div.sk-label input.sk-toggleable__control:checked~label.sk-toggleable__label {background-color: #d4ebff;}#sk-container-id-1 input.sk-hidden--visually {border: 0;clip: rect(1px 1px 1px 1px);clip: rect(1px, 1px, 1px, 1px);height: 1px;margin: -1px;overflow: hidden;padding: 0;position: absolute;width: 1px;}#sk-container-id-1 div.sk-estimator {font-family: monospace;background-color: #f0f8ff;border: 1px dotted black;border-radius: 0.25em;box-sizing: border-box;margin-bottom: 0.5em;}#sk-container-id-1 div.sk-estimator:hover {background-color: #d4ebff;}#sk-container-id-1 div.sk-parallel-item::after {content: \"\";width: 100%;border-bottom: 1px solid gray;flex-grow: 1;}#sk-container-id-1 div.sk-label:hover label.sk-toggleable__label {background-color: #d4ebff;}#sk-container-id-1 div.sk-serial::before {content: \"\";position: absolute;border-left: 1px solid gray;box-sizing: border-box;top: 0;bottom: 0;left: 50%;z-index: 0;}#sk-container-id-1 div.sk-serial {display: flex;flex-direction: column;align-items: center;background-color: white;padding-right: 0.2em;padding-left: 0.2em;position: relative;}#sk-container-id-1 div.sk-item {position: relative;z-index: 1;}#sk-container-id-1 div.sk-parallel {display: flex;align-items: stretch;justify-content: center;background-color: white;position: relative;}#sk-container-id-1 div.sk-item::before, #sk-container-id-1 div.sk-parallel-item::before {content: \"\";position: absolute;border-left: 1px solid gray;box-sizing: border-box;top: 0;bottom: 0;left: 50%;z-index: -1;}#sk-container-id-1 div.sk-parallel-item {display: flex;flex-direction: column;z-index: 1;position: relative;background-color: white;}#sk-container-id-1 div.sk-parallel-item:first-child::after {align-self: flex-end;width: 50%;}#sk-container-id-1 div.sk-parallel-item:last-child::after {align-self: flex-start;width: 50%;}#sk-container-id-1 div.sk-parallel-item:only-child::after {width: 0;}#sk-container-id-1 div.sk-dashed-wrapped {border: 1px dashed gray;margin: 0 0.4em 0.5em 0.4em;box-sizing: border-box;padding-bottom: 0.4em;background-color: white;}#sk-container-id-1 div.sk-label label {font-family: monospace;font-weight: bold;display: inline-block;line-height: 1.2em;}#sk-container-id-1 div.sk-label-container {text-align: center;}#sk-container-id-1 div.sk-container {/* jupyter's `normalize.less` sets `[hidden] { display: none; }` but bootstrap.min.css set `[hidden] { display: none !important; }` so we also need the `!important` here to be able to override the default hidden behavior on the sphinx rendered scikit-learn.org. See: https://github.com/scikit-learn/scikit-learn/issues/21755 */display: inline-block !important;position: relative;}#sk-container-id-1 div.sk-text-repr-fallback {display: none;}</style><div id=\"sk-container-id-1\" class=\"sk-top-container\"><div class=\"sk-text-repr-fallback\"><pre>LogisticRegression(penalty=&#x27;l1&#x27;, random_state=0, solver=&#x27;saga&#x27;)</pre><b>In a Jupyter environment, please rerun this cell to show the HTML representation or trust the notebook. <br />On GitHub, the HTML representation is unable to render, please try loading this page with nbviewer.org.</b></div><div class=\"sk-container\" hidden><div class=\"sk-item\"><div class=\"sk-estimator sk-toggleable\"><input class=\"sk-toggleable__control sk-hidden--visually\" id=\"sk-estimator-id-1\" type=\"checkbox\" checked><label for=\"sk-estimator-id-1\" class=\"sk-toggleable__label sk-toggleable__label-arrow\">LogisticRegression</label><div class=\"sk-toggleable__content\"><pre>LogisticRegression(penalty=&#x27;l1&#x27;, random_state=0, solver=&#x27;saga&#x27;)</pre></div></div></div></div></div>"
      ],
      "text/plain": [
       "LogisticRegression(penalty='l1', random_state=0, solver='saga')"
      ]
     },
     "execution_count": 41,
     "metadata": {},
     "output_type": "execute_result"
    }
   ],
   "source": [
    "#Logistic Regression\n",
    "from sklearn.linear_model import LogisticRegression\n",
    "model=  LogisticRegression(random_state=0, solver='saga', penalty='l1')\n",
    "model.fit(X_train, y_train)"
   ]
  },
  {
   "cell_type": "code",
   "execution_count": 42,
   "id": "f694bd4f",
   "metadata": {},
   "outputs": [],
   "source": [
    "predictions = model.predict(X_test)"
   ]
  },
  {
   "cell_type": "code",
   "execution_count": 43,
   "id": "6ed89b29",
   "metadata": {},
   "outputs": [
    {
     "data": {
      "text/plain": [
       "array([1, 1, 1, ..., 1, 1, 1], dtype=int64)"
      ]
     },
     "execution_count": 43,
     "metadata": {},
     "output_type": "execute_result"
    }
   ],
   "source": [
    "predictions"
   ]
  },
  {
   "cell_type": "code",
   "execution_count": 44,
   "id": "d6765c1b",
   "metadata": {},
   "outputs": [
    {
     "data": {
      "text/plain": [
       "<AxesSubplot:>"
      ]
     },
     "execution_count": 44,
     "metadata": {},
     "output_type": "execute_result"
    },
    {
     "data": {
      "image/png": "[encoded data removed]",
      "text/plain": [
       "<Figure size 432x288 with 2 Axes>"
      ]
     },
     "metadata": {
      "needs_background": "light"
     },
     "output_type": "display_data"
    }
   ],
   "source": [
    "from sklearn.metrics import confusion_matrix, classification_report,accuracy_score, f1_score, recall_score, precision_score\n",
    "cm = confusion_matrix(y_test, predictions)\n",
    "cm\n",
    "sns.heatmap(cm, annot= True, cmap='viridis',annot_kws={\"size\": 10},fmt=\"d\")"
   ]
  },
  {
   "cell_type": "code",
   "execution_count": 45,
   "id": "a230b1eb",
   "metadata": {},
   "outputs": [
    {
     "name": "stdout",
     "output_type": "stream",
     "text": [
      "              precision    recall  f1-score   support\n",
      "\n",
      "           0       0.54      0.39      0.45      1654\n",
      "           1       0.58      0.71      0.64      1928\n",
      "\n",
      "    accuracy                           0.56      3582\n",
      "   macro avg       0.56      0.55      0.54      3582\n",
      "weighted avg       0.56      0.56      0.55      3582\n",
      "\n"
     ]
    }
   ],
   "source": [
    "print(classification_report(y_test, predictions))"
   ]
  },
  {
   "cell_type": "code",
   "execution_count": 46,
   "id": "d725c5cc",
   "metadata": {},
   "outputs": [
    {
     "data": {
      "text/plain": [
       "0.5628140703517588"
      ]
     },
     "execution_count": 46,
     "metadata": {},
     "output_type": "execute_result"
    }
   ],
   "source": [
    "acc= accuracy_score(y_test, predictions) #Not high at all\n",
    "acc"
   ]
  },
  {
   "cell_type": "code",
   "execution_count": 47,
   "id": "954f67c2",
   "metadata": {},
   "outputs": [
    {
     "data": {
      "text/plain": [
       "0.5765004226542688"
      ]
     },
     "execution_count": 47,
     "metadata": {},
     "output_type": "execute_result"
    }
   ],
   "source": [
    "pre= precision_score(y_test, predictions) #something there not too high\n",
    "pre  #TP/TP+FP -> out of all predicted positives, we want to know how many have been predicted right?And how many have been predicted wrong."
   ]
  },
  {
   "cell_type": "code",
   "execution_count": 48,
   "id": "74b7c115",
   "metadata": {},
   "outputs": [
    {
     "data": {
      "text/plain": [
       "0.7074688796680498"
      ]
     },
     "execution_count": 48,
     "metadata": {},
     "output_type": "execute_result"
    }
   ],
   "source": [
    "rec= recall_score(y_test, predictions) #there is bias in model\n",
    "rec #TP/TP+FN ->that tells us out of all the actual positives,how many did we predict to be actually true?So the recall is telling us that out of all the actual positives, we have predicted them to be true around 70% of the time, which is good."
   ]
  },
  {
   "cell_type": "code",
   "execution_count": 49,
   "id": "619e79fe",
   "metadata": {},
   "outputs": [
    {
     "data": {
      "text/plain": [
       "0.6353050768514206"
      ]
     },
     "execution_count": 49,
     "metadata": {},
     "output_type": "execute_result"
    }
   ],
   "source": [
    "f1= f1_score(y_test, predictions)\n",
    "f1"
   ]
  },
  {
   "cell_type": "code",
   "execution_count": 50,
   "id": "a9d17797",
   "metadata": {},
   "outputs": [],
   "source": [
    "#SVM (Linear)"
   ]
  },
  {
   "cell_type": "code",
   "execution_count": 51,
   "id": "1af314f7",
   "metadata": {},
   "outputs": [
    {
     "data": {
      "text/html": [
       "<style>#sk-container-id-2 {color: black;}#sk-container-id-2 pre{padding: 0;}#sk-container-id-2 div.sk-toggleable {background-color: white;}#sk-container-id-2 label.sk-toggleable__label {cursor: pointer;display: block;width: 100%;margin-bottom: 0;padding: 0.3em;box-sizing: border-box;text-align: center;}#sk-container-id-2 label.sk-toggleable__label-arrow:before {content: \"▸\";float: left;margin-right: 0.25em;color: #696969;}#sk-container-id-2 label.sk-toggleable__label-arrow:hover:before {color: black;}#sk-container-id-2 div.sk-estimator:hover label.sk-toggleable__label-arrow:before {color: black;}#sk-container-id-2 div.sk-toggleable__content {max-height: 0;max-width: 0;overflow: hidden;text-align: left;background-color: #f0f8ff;}#sk-container-id-2 div.sk-toggleable__content pre {margin: 0.2em;color: black;border-radius: 0.25em;background-color: #f0f8ff;}#sk-container-id-2 input.sk-toggleable__control:checked~div.sk-toggleable__content {max-height: 200px;max-width: 100%;overflow: auto;}#sk-container-id-2 input.sk-toggleable__control:checked~label.sk-toggleable__label-arrow:before {content: \"▾\";}#sk-container-id-2 div.sk-estimator input.sk-toggleable__control:checked~label.sk-toggleable__label {background-color: #d4ebff;}#sk-container-id-2 div.sk-label input.sk-toggleable__control:checked~label.sk-toggleable__label {background-color: #d4ebff;}#sk-container-id-2 input.sk-hidden--visually {border: 0;clip: rect(1px 1px 1px 1px);clip: rect(1px, 1px, 1px, 1px);height: 1px;margin: -1px;overflow: hidden;padding: 0;position: absolute;width: 1px;}#sk-container-id-2 div.sk-estimator {font-family: monospace;background-color: #f0f8ff;border: 1px dotted black;border-radius: 0.25em;box-sizing: border-box;margin-bottom: 0.5em;}#sk-container-id-2 div.sk-estimator:hover {background-color: #d4ebff;}#sk-container-id-2 div.sk-parallel-item::after {content: \"\";width: 100%;border-bottom: 1px solid gray;flex-grow: 1;}#sk-container-id-2 div.sk-label:hover label.sk-toggleable__label {background-color: #d4ebff;}#sk-container-id-2 div.sk-serial::before {content: \"\";position: absolute;border-left: 1px solid gray;box-sizing: border-box;top: 0;bottom: 0;left: 50%;z-index: 0;}#sk-container-id-2 div.sk-serial {display: flex;flex-direction: column;align-items: center;background-color: white;padding-right: 0.2em;padding-left: 0.2em;position: relative;}#sk-container-id-2 div.sk-item {position: relative;z-index: 1;}#sk-container-id-2 div.sk-parallel {display: flex;align-items: stretch;justify-content: center;background-color: white;position: relative;}#sk-container-id-2 div.sk-item::before, #sk-container-id-2 div.sk-parallel-item::before {content: \"\";position: absolute;border-left: 1px solid gray;box-sizing: border-box;top: 0;bottom: 0;left: 50%;z-index: -1;}#sk-container-id-2 div.sk-parallel-item {display: flex;flex-direction: column;z-index: 1;position: relative;background-color: white;}#sk-container-id-2 div.sk-parallel-item:first-child::after {align-self: flex-end;width: 50%;}#sk-container-id-2 div.sk-parallel-item:last-child::after {align-self: flex-start;width: 50%;}#sk-container-id-2 div.sk-parallel-item:only-child::after {width: 0;}#sk-container-id-2 div.sk-dashed-wrapped {border: 1px dashed gray;margin: 0 0.4em 0.5em 0.4em;box-sizing: border-box;padding-bottom: 0.4em;background-color: white;}#sk-container-id-2 div.sk-label label {font-family: monospace;font-weight: bold;display: inline-block;line-height: 1.2em;}#sk-container-id-2 div.sk-label-container {text-align: center;}#sk-container-id-2 div.sk-container {/* jupyter's `normalize.less` sets `[hidden] { display: none; }` but bootstrap.min.css set `[hidden] { display: none !important; }` so we also need the `!important` here to be able to override the default hidden behavior on the sphinx rendered scikit-learn.org. See: https://github.com/scikit-learn/scikit-learn/issues/21755 */display: inline-block !important;position: relative;}#sk-container-id-2 div.sk-text-repr-fallback {display: none;}</style><div id=\"sk-container-id-2\" class=\"sk-top-container\"><div class=\"sk-text-repr-fallback\"><pre>SVC(kernel=&#x27;linear&#x27;, random_state=0)</pre><b>In a Jupyter environment, please rerun this cell to show the HTML representation or trust the notebook. <br />On GitHub, the HTML representation is unable to render, please try loading this page with nbviewer.org.</b></div><div class=\"sk-container\" hidden><div class=\"sk-item\"><div class=\"sk-estimator sk-toggleable\"><input class=\"sk-toggleable__control sk-hidden--visually\" id=\"sk-estimator-id-2\" type=\"checkbox\" checked><label for=\"sk-estimator-id-2\" class=\"sk-toggleable__label sk-toggleable__label-arrow\">SVC</label><div class=\"sk-toggleable__content\"><pre>SVC(kernel=&#x27;linear&#x27;, random_state=0)</pre></div></div></div></div></div>"
      ],
      "text/plain": [
       "SVC(kernel='linear', random_state=0)"
      ]
     },
     "execution_count": 51,
     "metadata": {},
     "output_type": "execute_result"
    }
   ],
   "source": [
    "from sklearn.svm import SVC\n",
    "model=  SVC(random_state=0, kernel= 'linear')\n",
    "model.fit(X_train, y_train)"
   ]
  },
  {
   "cell_type": "code",
   "execution_count": 52,
   "id": "0a8bb39c",
   "metadata": {},
   "outputs": [],
   "source": [
    "predictions = model.predict(X_test)"
   ]
  },
  {
   "cell_type": "code",
   "execution_count": 53,
   "id": "1f7c132c",
   "metadata": {},
   "outputs": [
    {
     "data": {
      "text/plain": [
       "<AxesSubplot:>"
      ]
     },
     "execution_count": 53,
     "metadata": {},
     "output_type": "execute_result"
    },
    {
     "data": {
      "image/png": "[encoded data removed]",
      "text/plain": [
       "<Figure size 432x288 with 2 Axes>"
      ]
     },
     "metadata": {
      "needs_background": "light"
     },
     "output_type": "display_data"
    }
   ],
   "source": [
    "from sklearn.metrics import confusion_matrix, classification_report,accuracy_score, f1_score, recall_score, precision_score\n",
    "cm = confusion_matrix(y_test, predictions)\n",
    "cm\n",
    "sns.heatmap(cm, annot= True, cmap='viridis',annot_kws={\"size\": 10},fmt=\"d\")"
   ]
  },
  {
   "cell_type": "code",
   "execution_count": 54,
   "id": "1cc2b5ed",
   "metadata": {},
   "outputs": [
    {
     "name": "stdout",
     "output_type": "stream",
     "text": [
      "              precision    recall  f1-score   support\n",
      "\n",
      "           0       0.55      0.37      0.44      1654\n",
      "           1       0.58      0.74      0.65      1928\n",
      "\n",
      "    accuracy                           0.57      3582\n",
      "   macro avg       0.56      0.55      0.55      3582\n",
      "weighted avg       0.56      0.57      0.55      3582\n",
      "\n"
     ]
    }
   ],
   "source": [
    "print(classification_report(y_test, predictions))"
   ]
  },
  {
   "cell_type": "code",
   "execution_count": 55,
   "id": "45618bac",
   "metadata": {},
   "outputs": [
    {
     "data": {
      "text/plain": [
       "0.5681183696259073"
      ]
     },
     "execution_count": 55,
     "metadata": {},
     "output_type": "execute_result"
    }
   ],
   "source": [
    "acc= accuracy_score(y_test, predictions) \n",
    "acc"
   ]
  },
  {
   "cell_type": "code",
   "execution_count": 56,
   "id": "c2e086f5",
   "metadata": {},
   "outputs": [
    {
     "data": {
      "text/plain": [
       "0.5775967413441955"
      ]
     },
     "execution_count": 56,
     "metadata": {},
     "output_type": "execute_result"
    }
   ],
   "source": [
    "pre= precision_score(y_test, predictions) \n",
    "pre"
   ]
  },
  {
   "cell_type": "code",
   "execution_count": 57,
   "id": "8688a87e",
   "metadata": {},
   "outputs": [
    {
     "data": {
      "text/plain": [
       "0.7354771784232366"
      ]
     },
     "execution_count": 57,
     "metadata": {},
     "output_type": "execute_result"
    }
   ],
   "source": [
    "rec= recall_score(y_test, predictions) \n",
    "rec"
   ]
  },
  {
   "cell_type": "code",
   "execution_count": 58,
   "id": "ec388eef",
   "metadata": {},
   "outputs": [
    {
     "data": {
      "text/plain": [
       "0.6470454026922199"
      ]
     },
     "execution_count": 58,
     "metadata": {},
     "output_type": "execute_result"
    }
   ],
   "source": [
    "f1= f1_score(y_test, predictions)\n",
    "f1"
   ]
  },
  {
   "cell_type": "code",
   "execution_count": 59,
   "id": "8a1812cd",
   "metadata": {},
   "outputs": [
    {
     "data": {
      "text/plain": [
       "<AxesSubplot:>"
      ]
     },
     "execution_count": 59,
     "metadata": {},
     "output_type": "execute_result"
    },
    {
     "data": {
      "image/png": "[encoded data removed]",
      "text/plain": [
       "<Figure size 432x288 with 2 Axes>"
      ]
     },
     "metadata": {
      "needs_background": "light"
     },
     "output_type": "display_data"
    }
   ],
   "source": [
    "from sklearn.svm import SVC\n",
    "model=  SVC(random_state=0, kernel= 'rbf')\n",
    "model.fit(X_train, y_train)\n",
    "predictions = model.predict(X_test)\n",
    "from sklearn.metrics import confusion_matrix, classification_report,accuracy_score, f1_score, recall_score, precision_score\n",
    "cm = confusion_matrix(y_test, predictions)\n",
    "cm\n",
    "sns.heatmap(cm, annot= True, cmap='viridis',annot_kws={\"size\": 10},fmt=\"d\")"
   ]
  },
  {
   "cell_type": "code",
   "execution_count": 60,
   "id": "ce5e0ea8",
   "metadata": {},
   "outputs": [
    {
     "name": "stdout",
     "output_type": "stream",
     "text": [
      "              precision    recall  f1-score   support\n",
      "\n",
      "           0       0.57      0.48      0.52      1654\n",
      "           1       0.61      0.69      0.65      1928\n",
      "\n",
      "    accuracy                           0.59      3582\n",
      "   macro avg       0.59      0.58      0.58      3582\n",
      "weighted avg       0.59      0.59      0.59      3582\n",
      "\n"
     ]
    }
   ],
   "source": [
    "print(classification_report(y_test, predictions))"
   ]
  },
  {
   "cell_type": "code",
   "execution_count": 61,
   "id": "687ca954",
   "metadata": {},
   "outputs": [
    {
     "data": {
      "text/plain": [
       "0.5915689558905639"
      ]
     },
     "execution_count": 61,
     "metadata": {},
     "output_type": "execute_result"
    }
   ],
   "source": [
    "acc= accuracy_score(y_test, predictions) \n",
    "acc"
   ]
  },
  {
   "cell_type": "code",
   "execution_count": 62,
   "id": "f2bac6b8",
   "metadata": {},
   "outputs": [
    {
     "data": {
      "text/plain": [
       "0.6057298772169167"
      ]
     },
     "execution_count": 62,
     "metadata": {},
     "output_type": "execute_result"
    }
   ],
   "source": [
    "pre= precision_score(y_test, predictions) \n",
    "pre\n"
   ]
  },
  {
   "cell_type": "code",
   "execution_count": 63,
   "id": "425caeee",
   "metadata": {},
   "outputs": [
    {
     "data": {
      "text/plain": [
       "0.6908713692946058"
      ]
     },
     "execution_count": 63,
     "metadata": {},
     "output_type": "execute_result"
    }
   ],
   "source": [
    "rec= recall_score(y_test, predictions) \n",
    "rec\n"
   ]
  },
  {
   "cell_type": "code",
   "execution_count": 64,
   "id": "22c2af72",
   "metadata": {},
   "outputs": [
    {
     "data": {
      "text/plain": [
       "0.6455052095953476"
      ]
     },
     "execution_count": 64,
     "metadata": {},
     "output_type": "execute_result"
    }
   ],
   "source": [
    "f1= f1_score(y_test, predictions)\n",
    "f1"
   ]
  },
  {
   "cell_type": "code",
   "execution_count": 65,
   "id": "41f18d10",
   "metadata": {},
   "outputs": [
    {
     "data": {
      "text/plain": [
       "<AxesSubplot:>"
      ]
     },
     "execution_count": 65,
     "metadata": {},
     "output_type": "execute_result"
    },
    {
     "data": {
      "image/png": "[encoded data removed]",
      "text/plain": [
       "<Figure size 432x288 with 2 Axes>"
      ]
     },
     "metadata": {
      "needs_background": "light"
     },
     "output_type": "display_data"
    }
   ],
   "source": [
    "from sklearn.ensemble import RandomForestClassifier\n",
    "classifier=  RandomForestClassifier(random_state=0, n_estimators= 100)\n",
    "classifier.fit(X_train, y_train)\n",
    "predictions = classifier.predict(X_test)\n",
    "from sklearn.metrics import confusion_matrix, classification_report,accuracy_score, f1_score, recall_score, precision_score\n",
    "cm = confusion_matrix(y_test, predictions)\n",
    "cm\n",
    "sns.heatmap(cm, annot= True, cmap='viridis',annot_kws={\"size\": 10},fmt=\"d\")"
   ]
  },
  {
   "cell_type": "code",
   "execution_count": 66,
   "id": "d36e01a6",
   "metadata": {},
   "outputs": [
    {
     "name": "stdout",
     "output_type": "stream",
     "text": [
      "              precision    recall  f1-score   support\n",
      "\n",
      "           0       0.60      0.56      0.58      1654\n",
      "           1       0.64      0.68      0.66      1928\n",
      "\n",
      "    accuracy                           0.63      3582\n",
      "   macro avg       0.62      0.62      0.62      3582\n",
      "weighted avg       0.62      0.63      0.62      3582\n",
      "\n"
     ]
    }
   ],
   "source": [
    "print(classification_report(y_test, predictions))"
   ]
  },
  {
   "cell_type": "code",
   "execution_count": 67,
   "id": "ffc358ed",
   "metadata": {},
   "outputs": [
    {
     "data": {
      "text/plain": [
       "0.6250697934115019"
      ]
     },
     "execution_count": 67,
     "metadata": {},
     "output_type": "execute_result"
    }
   ],
   "source": [
    "acc= accuracy_score(y_test, predictions) \n",
    "acc"
   ]
  },
  {
   "cell_type": "code",
   "execution_count": 68,
   "id": "7c8708bf",
   "metadata": {},
   "outputs": [
    {
     "data": {
      "text/plain": [
       "0.6423357664233577"
      ]
     },
     "execution_count": 68,
     "metadata": {},
     "output_type": "execute_result"
    }
   ],
   "source": [
    "pre= precision_score(y_test, predictions) \n",
    "pre"
   ]
  },
  {
   "cell_type": "code",
   "execution_count": 69,
   "id": "4bc96bcb",
   "metadata": {},
   "outputs": [
    {
     "data": {
      "text/plain": [
       "0.6846473029045643"
      ]
     },
     "execution_count": 69,
     "metadata": {},
     "output_type": "execute_result"
    }
   ],
   "source": [
    "rec= recall_score(y_test, predictions) \n",
    "rec"
   ]
  },
  {
   "cell_type": "code",
   "execution_count": 70,
   "id": "de6ecdb1",
   "metadata": {},
   "outputs": [
    {
     "data": {
      "text/plain": [
       "0.6628169721315592"
      ]
     },
     "execution_count": 70,
     "metadata": {},
     "output_type": "execute_result"
    }
   ],
   "source": [
    "f1= f1_score(y_test, predictions)\n",
    "f1"
   ]
  },
  {
   "cell_type": "code",
   "execution_count": 71,
   "id": "e058864f",
   "metadata": {},
   "outputs": [],
   "source": [
    "#Random Forest is the best performer\n",
    "\n",
    "#To validate this model,to see if it performs like it says it does\n",
    "#So, to do that we are going to apply k-fold cross validation"
   ]
  },
  {
   "cell_type": "code",
   "execution_count": 72,
   "id": "eafb1c21",
   "metadata": {},
   "outputs": [],
   "source": [
    "#So if we do K-fold cross validation, we are guaranteeing that this model is well\n",
    "#we're almost guaranteeing that this model is consistent throughout all of the data that exists in the training set\n",
    "#So this is good, then we can finally guarantee that random forest is the best option we have to run here"
   ]
  },
  {
   "cell_type": "code",
   "execution_count": 75,
   "id": "c3540359",
   "metadata": {},
   "outputs": [],
   "source": [
    "# K-fold cross validation\n",
    "from sklearn.model_selection import cross_val_score\n",
    "accuracies= cross_val_score(estimator= classifier, X= X_train, y= y_train, cv=10) #10 fold cross validations"
   ]
  },
  {
   "cell_type": "code",
   "execution_count": 76,
   "id": "5140abf8",
   "metadata": {},
   "outputs": [
    {
     "name": "stdout",
     "output_type": "stream",
     "text": [
      "SVM Accuracy: 0.628 (+/- 0.021)\n"
     ]
    }
   ],
   "source": [
    "print(\"SVM Accuracy: %0.3f (+/- %0.3f)\" % (accuracies.mean(), accuracies.std() * 2))"
   ]
  },
  {
   "cell_type": "code",
   "execution_count": 77,
   "id": "13101a59",
   "metadata": {},
   "outputs": [],
   "source": [
    "#Now we are going to fine tune this Random Forest model and will do parameter tuning \n",
    "#and what its going to accomplish is to find best parameters to Random Forest that gives us the most accuracy in our model"
   ]
  },
  {
   "cell_type": "code",
   "execution_count": 79,
   "id": "0be2ceb3",
   "metadata": {},
   "outputs": [],
   "source": [
    "#Applying Grid Search for Parameter Tuning\n",
    "\n",
    "#Round 1: Entropy\n",
    "parameters= {'criterion':['entropy'],'max_depth':[3,None],'max_features':[1,5,10],'min_samples_split':[2,5,10], 'min_samples_leaf':[1,5,10], 'bootstrap':[True, False]}"
   ]
  },
  {
   "cell_type": "code",
   "execution_count": 80,
   "id": "32f0702c",
   "metadata": {},
   "outputs": [],
   "source": [
    "#Implementing on training set: classifier\n",
    "from sklearn.model_selection import GridSearchCV\n",
    "grid_search= GridSearchCV(estimator= classifier, param_grid= parameters, scoring= \"accuracy\", cv=10, n_jobs=-1)"
   ]
  },
  {
   "cell_type": "code",
   "execution_count": 81,
   "id": "47a08dc7",
   "metadata": {},
   "outputs": [],
   "source": [
    "grid_search= grid_search.fit(X_train, y_train)"
   ]
  },
  {
   "cell_type": "code",
   "execution_count": 83,
   "id": "5cdc7b27",
   "metadata": {},
   "outputs": [
    {
     "data": {
      "text/plain": [
       "(0.6345122647725013,\n",
       " {'bootstrap': True,\n",
       "  'criterion': 'entropy',\n",
       "  'max_depth': None,\n",
       "  'max_features': 5,\n",
       "  'min_samples_leaf': 5,\n",
       "  'min_samples_split': 2})"
      ]
     },
     "execution_count": 83,
     "metadata": {},
     "output_type": "execute_result"
    }
   ],
   "source": [
    "rf_best_accuracy = grid_search.best_score_\n",
    "rf_best_parameters = grid_search.best_params_\n",
    "\n",
    "rf_best_accuracy, rf_best_parameters"
   ]
  },
  {
   "cell_type": "code",
   "execution_count": 88,
   "id": "00970cf6",
   "metadata": {},
   "outputs": [],
   "source": [
    "#Round 2: Entropy \n",
    "#As we got the best set of param results, would like to try it one more time to see if there is a change in the accuracy or not\n",
    "\n",
    "parameters= {'criterion':['entropy'],'max_depth':[None],'max_features':[3,5,7],'min_samples_split':[2,4], 'min_samples_leaf':[3,5,7], 'bootstrap':[True]}"
   ]
  },
  {
   "cell_type": "code",
   "execution_count": 89,
   "id": "f9ee5525",
   "metadata": {},
   "outputs": [],
   "source": [
    "from sklearn.model_selection import GridSearchCV\n",
    "grid_search= GridSearchCV(estimator= classifier, param_grid= parameters, scoring= \"accuracy\", cv=10, n_jobs=-1)"
   ]
  },
  {
   "cell_type": "code",
   "execution_count": 90,
   "id": "547c9d98",
   "metadata": {},
   "outputs": [],
   "source": [
    "grid_search= grid_search.fit(X_train, y_train)"
   ]
  },
  {
   "cell_type": "code",
   "execution_count": null,
   "id": "f1fdd227",
   "metadata": {},
   "outputs": [],
   "source": [
    "#The results are exact same even if we used the best params"
   ]
  },
  {
   "cell_type": "code",
   "execution_count": 87,
   "id": "47e5bece",
   "metadata": {},
   "outputs": [
    {
     "data": {
      "text/plain": [
       "(0.6345122647725013,\n",
       " {'bootstrap': True,\n",
       "  'criterion': 'entropy',\n",
       "  'max_depth': None,\n",
       "  'max_features': 5,\n",
       "  'min_samples_leaf': 5,\n",
       "  'min_samples_split': 2})"
      ]
     },
     "execution_count": 87,
     "metadata": {},
     "output_type": "execute_result"
    }
   ],
   "source": [
    "rf_best_accuracy = grid_search.best_score_\n",
    "rf_best_parameters = grid_search.best_params_\n",
    "\n",
    "rf_best_accuracy, rf_best_parameters"
   ]
  },
  {
   "cell_type": "code",
   "execution_count": null,
   "id": "30daef34",
   "metadata": {},
   "outputs": [],
   "source": [
    "#Final Part here is-\n",
    "#Apply the model to the test set to see the set of results improves the accuracy or not"
   ]
  },
  {
   "cell_type": "code",
   "execution_count": 92,
   "id": "c2894b94",
   "metadata": {},
   "outputs": [
    {
     "data": {
      "text/plain": [
       "<AxesSubplot:>"
      ]
     },
     "execution_count": 92,
     "metadata": {},
     "output_type": "execute_result"
    },
    {
     "data": {
      "image/png": "[encoded data removed]",
      "text/plain": [
       "<Figure size 432x288 with 2 Axes>"
      ]
     },
     "metadata": {
      "needs_background": "light"
     },
     "output_type": "display_data"
    }
   ],
   "source": [
    "#Predicting test set\n",
    "#we're going to have our grid_search predict the X_test.\n",
    "#It's going to predict the X_test,it's going to run the accuracy,and it's going to create a model_results that is going to detail those accuracies.\n",
    "\n",
    "predictions = grid_search.predict(X_test) #Rather than classifier, we will use grid_Search\n",
    "from sklearn.metrics import confusion_matrix, classification_report,accuracy_score, f1_score, recall_score, precision_score\n",
    "cm = confusion_matrix(y_test, predictions)\n",
    "cm\n",
    "sns.heatmap(cm, annot= True, cmap='viridis',annot_kws={\"size\": 10},fmt=\"d\")"
   ]
  },
  {
   "cell_type": "code",
   "execution_count": 100,
   "id": "46a155f8",
   "metadata": {},
   "outputs": [
    {
     "name": "stdout",
     "output_type": "stream",
     "text": [
      "              precision    recall  f1-score   support\n",
      "\n",
      "           0       0.61      0.55      0.58      1654\n",
      "           1       0.65      0.70      0.67      1928\n",
      "\n",
      "    accuracy                           0.63      3582\n",
      "   macro avg       0.63      0.63      0.63      3582\n",
      "weighted avg       0.63      0.63      0.63      3582\n",
      "\n"
     ]
    }
   ],
   "source": [
    "print(classification_report(y_test, predictions))"
   ]
  },
  {
   "cell_type": "code",
   "execution_count": 101,
   "id": "97527f40",
   "metadata": {},
   "outputs": [],
   "source": [
    "#Now doing the exact same but using Gini version\n",
    "#Round 1: Gini"
   ]
  },
  {
   "cell_type": "code",
   "execution_count": 102,
   "id": "8325c8bd",
   "metadata": {},
   "outputs": [],
   "source": [
    "parameters= {'criterion':['gini'],'max_depth':[3,None],'max_features':[1,5,10],'min_samples_split':[2,5,10], 'min_samples_leaf':[1,5,10], 'bootstrap':[True, False]}"
   ]
  },
  {
   "cell_type": "code",
   "execution_count": 103,
   "id": "05d2a82b",
   "metadata": {},
   "outputs": [],
   "source": [
    "from sklearn.model_selection import GridSearchCV\n",
    "grid_search= GridSearchCV(estimator= classifier, param_grid= parameters, scoring= \"accuracy\", cv=10, n_jobs=-1)"
   ]
  },
  {
   "cell_type": "code",
   "execution_count": 104,
   "id": "db5b1d83",
   "metadata": {},
   "outputs": [],
   "source": [
    "grid_search= grid_search.fit(X_train, y_train)"
   ]
  },
  {
   "cell_type": "code",
   "execution_count": 105,
   "id": "418eb269",
   "metadata": {},
   "outputs": [
    {
     "data": {
      "text/plain": [
       "(0.6353512282315882,\n",
       " {'bootstrap': True,\n",
       "  'criterion': 'gini',\n",
       "  'max_depth': None,\n",
       "  'max_features': 10,\n",
       "  'min_samples_leaf': 5,\n",
       "  'min_samples_split': 2})"
      ]
     },
     "execution_count": 105,
     "metadata": {},
     "output_type": "execute_result"
    }
   ],
   "source": [
    "rf_best_accuracy = grid_search.best_score_\n",
    "rf_best_parameters = grid_search.best_params_\n",
    "\n",
    "rf_best_accuracy, rf_best_parameters"
   ]
  },
  {
   "cell_type": "code",
   "execution_count": 110,
   "id": "9f0eb909",
   "metadata": {},
   "outputs": [],
   "source": [
    "#Round 2: Gini\n",
    "parameters= {'criterion':['gini'],'max_depth':[None],'max_features':[8,10,12],'min_samples_split':[2,3], 'min_samples_leaf':[3,5,7], 'bootstrap':[True]}"
   ]
  },
  {
   "cell_type": "code",
   "execution_count": 111,
   "id": "a35c8d0f",
   "metadata": {},
   "outputs": [],
   "source": [
    "from sklearn.model_selection import GridSearchCV\n",
    "grid_search= GridSearchCV(estimator= classifier, param_grid= parameters, scoring= \"accuracy\", cv=10, n_jobs=-1)"
   ]
  },
  {
   "cell_type": "code",
   "execution_count": 112,
   "id": "e8f73a2b",
   "metadata": {},
   "outputs": [],
   "source": [
    "grid_search= grid_search.fit(X_train, y_train)"
   ]
  },
  {
   "cell_type": "code",
   "execution_count": 113,
   "id": "6b41a9e4",
   "metadata": {},
   "outputs": [
    {
     "data": {
      "text/plain": [
       "(0.6369569348984628,\n",
       " {'bootstrap': True,\n",
       "  'criterion': 'gini',\n",
       "  'max_depth': None,\n",
       "  'max_features': 8,\n",
       "  'min_samples_leaf': 7,\n",
       "  'min_samples_split': 2})"
      ]
     },
     "execution_count": 113,
     "metadata": {},
     "output_type": "execute_result"
    }
   ],
   "source": [
    "#The results \n",
    "rf_best_accuracy = grid_search.best_score_\n",
    "rf_best_parameters = grid_search.best_params_\n",
    "\n",
    "rf_best_accuracy, rf_best_parameters"
   ]
  },
  {
   "cell_type": "code",
   "execution_count": null,
   "id": "c5b6335c",
   "metadata": {},
   "outputs": [],
   "source": [
    "#Final Part here is-\n",
    "#Apply the model to the test set to see the set of results improves the accuracy or not"
   ]
  },
  {
   "cell_type": "code",
   "execution_count": 115,
   "id": "065c6466",
   "metadata": {},
   "outputs": [
    {
     "data": {
      "text/plain": [
       "<AxesSubplot:>"
      ]
     },
     "execution_count": 115,
     "metadata": {},
     "output_type": "execute_result"
    },
    {
     "data": {
      "image/png": "[encoded data removed]",
      "text/plain": [
       "<Figure size 432x288 with 2 Axes>"
      ]
     },
     "metadata": {
      "needs_background": "light"
     },
     "output_type": "display_data"
    }
   ],
   "source": [
    "#Predicting test set\n",
    "#we're going to have our grid_search predict the X_test.\n",
    "#It's going to predict the X_test,it's going to run the accuracy,and it's going to create a model_results that is going to detail those accuracies.\n",
    "\n",
    "predictions = grid_search.predict(X_test) #Rather than classifier, we will use grid_Search\n",
    "from sklearn.metrics import confusion_matrix, classification_report,accuracy_score, f1_score, recall_score, precision_score\n",
    "cm = confusion_matrix(y_test, predictions)\n",
    "cm\n",
    "sns.heatmap(cm, annot= True, cmap='viridis',annot_kws={\"size\": 10},fmt=\"d\")"
   ]
  },
  {
   "cell_type": "code",
   "execution_count": 116,
   "id": "21560cf8",
   "metadata": {},
   "outputs": [
    {
     "name": "stdout",
     "output_type": "stream",
     "text": [
      "              precision    recall  f1-score   support\n",
      "\n",
      "           0       0.60      0.56      0.58      1654\n",
      "           1       0.64      0.68      0.66      1928\n",
      "\n",
      "    accuracy                           0.63      3582\n",
      "   macro avg       0.62      0.62      0.62      3582\n",
      "weighted avg       0.62      0.63      0.62      3582\n",
      "\n"
     ]
    }
   ],
   "source": [
    "print(classification_report(y_test, predictions))"
   ]
  },
  {
   "cell_type": "code",
   "execution_count": null,
   "id": "9c0317ad",
   "metadata": {},
   "outputs": [],
   "source": [
    "#the difference b/w entropy and gini are just due to randomness, but overall we are just going to stick with random forest entropy and realize that this is the best model that we can probably use!\n",
    "#Just the best model over every other model"
   ]
  },
  {
   "cell_type": "code",
   "execution_count": 118,
   "id": "33618aef",
   "metadata": {},
   "outputs": [],
   "source": [
    "# Formatting Final Results\n",
    "\n",
    "final_results = pd.concat([y_test, users], axis = 1).dropna()\n",
    "final_results['predictions'] = predictions\n",
    "final_results = final_results[['entry_id', 'e_signed', 'predictions']]\n"
   ]
  },
  {
   "cell_type": "code",
   "execution_count": 119,
   "id": "40b59fe1",
   "metadata": {},
   "outputs": [
    {
     "data": {
      "text/html": [
       "<div>\n",
       "<style scoped>\n",
       "    .dataframe tbody tr th:only-of-type {\n",
       "        vertical-align: middle;\n",
       "    }\n",
       "\n",
       "    .dataframe tbody tr th {\n",
       "        vertical-align: top;\n",
       "    }\n",
       "\n",
       "    .dataframe thead th {\n",
       "        text-align: right;\n",
       "    }\n",
       "</style>\n",
       "<table border=\"1\" class=\"dataframe\">\n",
       "  <thead>\n",
       "    <tr style=\"text-align: right;\">\n",
       "      <th></th>\n",
       "      <th>entry_id</th>\n",
       "      <th>e_signed</th>\n",
       "      <th>predictions</th>\n",
       "    </tr>\n",
       "  </thead>\n",
       "  <tbody>\n",
       "    <tr>\n",
       "      <th>8</th>\n",
       "      <td>6493191</td>\n",
       "      <td>1.0</td>\n",
       "      <td>0</td>\n",
       "    </tr>\n",
       "    <tr>\n",
       "      <th>9</th>\n",
       "      <td>8908605</td>\n",
       "      <td>1.0</td>\n",
       "      <td>1</td>\n",
       "    </tr>\n",
       "    <tr>\n",
       "      <th>12</th>\n",
       "      <td>6889184</td>\n",
       "      <td>1.0</td>\n",
       "      <td>1</td>\n",
       "    </tr>\n",
       "    <tr>\n",
       "      <th>16</th>\n",
       "      <td>9375601</td>\n",
       "      <td>0.0</td>\n",
       "      <td>1</td>\n",
       "    </tr>\n",
       "    <tr>\n",
       "      <th>18</th>\n",
       "      <td>8515555</td>\n",
       "      <td>1.0</td>\n",
       "      <td>1</td>\n",
       "    </tr>\n",
       "    <tr>\n",
       "      <th>...</th>\n",
       "      <td>...</td>\n",
       "      <td>...</td>\n",
       "      <td>...</td>\n",
       "    </tr>\n",
       "    <tr>\n",
       "      <th>17881</th>\n",
       "      <td>5028251</td>\n",
       "      <td>1.0</td>\n",
       "      <td>0</td>\n",
       "    </tr>\n",
       "    <tr>\n",
       "      <th>17888</th>\n",
       "      <td>8958068</td>\n",
       "      <td>0.0</td>\n",
       "      <td>0</td>\n",
       "    </tr>\n",
       "    <tr>\n",
       "      <th>17890</th>\n",
       "      <td>3605941</td>\n",
       "      <td>0.0</td>\n",
       "      <td>1</td>\n",
       "    </tr>\n",
       "    <tr>\n",
       "      <th>17901</th>\n",
       "      <td>1807355</td>\n",
       "      <td>0.0</td>\n",
       "      <td>1</td>\n",
       "    </tr>\n",
       "    <tr>\n",
       "      <th>17907</th>\n",
       "      <td>1498559</td>\n",
       "      <td>1.0</td>\n",
       "      <td>1</td>\n",
       "    </tr>\n",
       "  </tbody>\n",
       "</table>\n",
       "<p>3582 rows × 3 columns</p>\n",
       "</div>"
      ],
      "text/plain": [
       "       entry_id  e_signed  predictions\n",
       "8       6493191       1.0            0\n",
       "9       8908605       1.0            1\n",
       "12      6889184       1.0            1\n",
       "16      9375601       0.0            1\n",
       "18      8515555       1.0            1\n",
       "...         ...       ...          ...\n",
       "17881   5028251       1.0            0\n",
       "17888   8958068       0.0            0\n",
       "17890   3605941       0.0            1\n",
       "17901   1807355       0.0            1\n",
       "17907   1498559       1.0            1\n",
       "\n",
       "[3582 rows x 3 columns]"
      ]
     },
     "execution_count": 119,
     "metadata": {},
     "output_type": "execute_result"
    }
   ],
   "source": [
    "final_results"
   ]
  },
  {
   "cell_type": "code",
   "execution_count": null,
   "id": "7a702a79",
   "metadata": {},
   "outputs": [],
   "source": []
  }
 ],
 "metadata": {
  "kernelspec": {
   "display_name": "Python 3",
   "language": "python",
   "name": "python3"
  },
  "language_info": {
   "codemirror_mode": {
    "name": "ipython",
    "version": 3
   },
   "file_extension": ".py",
   "mimetype": "text/x-python",
   "name": "python",
   "nbconvert_exporter": "python",
   "pygments_lexer": "ipython3",
   "version": "3.8.8"
  }
 },
 "nbformat": 4,
 "nbformat_minor": 5
}
